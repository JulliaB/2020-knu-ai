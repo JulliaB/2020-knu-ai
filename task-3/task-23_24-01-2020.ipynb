{
 "cells": [
  {
   "cell_type": "markdown",
   "metadata": {},
   "source": [
    "## Prerequisites"
   ]
  },
  {
   "cell_type": "code",
   "execution_count": 375,
   "metadata": {},
   "outputs": [],
   "source": [
    "import os\n",
    "from os import chdir\n",
    "\n",
    "import pandas as pd \n",
    "import numpy as np\n",
    "\n",
    "from sklearn.linear_model import LogisticRegression\n",
    "from sklearn.neighbors import KNeighborsClassifier\n",
    "from sklearn.ensemble import RandomForestClassifier\n",
    "from sklearn.svm import SVC\n",
    "from sklearn.naive_bayes import GaussianNB\n",
    "\n",
    "from sklearn.feature_extraction.text import TfidfTransformer\n",
    "from sklearn.feature_extraction.text import CountVectorizer\n",
    "from sklearn.pipeline import Pipeline\n",
    "\n",
    "from scipy.sparse import load_npz\n",
    "from scipy.sparse import save_npz\n",
    "\n",
    "from scipy.sparse import csr_matrix\n",
    "from scipy.sparse import spdiags\n",
    "\n",
    "\n",
    "chdir(\n",
    "    r'C:\\Users\\laplace-transform\\AppData\\Local\\Programs\\Python\\Python37\\notebooks\\2020-knu-ai-master\\jigsaw-toxic-comment-classification-challenge'\n",
    ")"
   ]
  },
  {
   "cell_type": "markdown",
   "metadata": {},
   "source": [
    "### Note! Some of these models support only multiclass classification, please, while selecting your dataset,  \n",
    "### be sure that for algorithms which does not support multilabel classification you use only examples with only one label. \n",
    "### Examples without a label in any of the provided categories are clean messages, without any toxicity."
   ]
  },
  {
   "cell_type": "code",
   "execution_count": 2,
   "metadata": {},
   "outputs": [],
   "source": [
    "df = pd.read_csv(\"../jigsaw-toxic-comment-classification-challenge/train.csv\")"
   ]
  },
  {
   "cell_type": "code",
   "execution_count": 3,
   "metadata": {},
   "outputs": [
    {
     "data": {
      "text/html": [
       "<div>\n",
       "<style scoped>\n",
       "    .dataframe tbody tr th:only-of-type {\n",
       "        vertical-align: middle;\n",
       "    }\n",
       "\n",
       "    .dataframe tbody tr th {\n",
       "        vertical-align: top;\n",
       "    }\n",
       "\n",
       "    .dataframe thead th {\n",
       "        text-align: right;\n",
       "    }\n",
       "</style>\n",
       "<table border=\"1\" class=\"dataframe\">\n",
       "  <thead>\n",
       "    <tr style=\"text-align: right;\">\n",
       "      <th></th>\n",
       "      <th>id</th>\n",
       "      <th>comment_text</th>\n",
       "      <th>toxic</th>\n",
       "      <th>severe_toxic</th>\n",
       "      <th>obscene</th>\n",
       "      <th>threat</th>\n",
       "      <th>insult</th>\n",
       "      <th>identity_hate</th>\n",
       "    </tr>\n",
       "  </thead>\n",
       "  <tbody>\n",
       "    <tr>\n",
       "      <th>0</th>\n",
       "      <td>0000997932d777bf</td>\n",
       "      <td>Explanation\\nWhy the edits made under my usern...</td>\n",
       "      <td>0</td>\n",
       "      <td>0</td>\n",
       "      <td>0</td>\n",
       "      <td>0</td>\n",
       "      <td>0</td>\n",
       "      <td>0</td>\n",
       "    </tr>\n",
       "    <tr>\n",
       "      <th>1</th>\n",
       "      <td>000103f0d9cfb60f</td>\n",
       "      <td>D'aww! He matches this background colour I'm s...</td>\n",
       "      <td>0</td>\n",
       "      <td>0</td>\n",
       "      <td>0</td>\n",
       "      <td>0</td>\n",
       "      <td>0</td>\n",
       "      <td>0</td>\n",
       "    </tr>\n",
       "    <tr>\n",
       "      <th>2</th>\n",
       "      <td>000113f07ec002fd</td>\n",
       "      <td>Hey man, I'm really not trying to edit war. It...</td>\n",
       "      <td>0</td>\n",
       "      <td>0</td>\n",
       "      <td>0</td>\n",
       "      <td>0</td>\n",
       "      <td>0</td>\n",
       "      <td>0</td>\n",
       "    </tr>\n",
       "    <tr>\n",
       "      <th>3</th>\n",
       "      <td>0001b41b1c6bb37e</td>\n",
       "      <td>\"\\nMore\\nI can't make any real suggestions on ...</td>\n",
       "      <td>0</td>\n",
       "      <td>0</td>\n",
       "      <td>0</td>\n",
       "      <td>0</td>\n",
       "      <td>0</td>\n",
       "      <td>0</td>\n",
       "    </tr>\n",
       "    <tr>\n",
       "      <th>4</th>\n",
       "      <td>0001d958c54c6e35</td>\n",
       "      <td>You, sir, are my hero. Any chance you remember...</td>\n",
       "      <td>0</td>\n",
       "      <td>0</td>\n",
       "      <td>0</td>\n",
       "      <td>0</td>\n",
       "      <td>0</td>\n",
       "      <td>0</td>\n",
       "    </tr>\n",
       "  </tbody>\n",
       "</table>\n",
       "</div>"
      ],
      "text/plain": [
       "                 id                                       comment_text  toxic  \\\n",
       "0  0000997932d777bf  Explanation\\nWhy the edits made under my usern...      0   \n",
       "1  000103f0d9cfb60f  D'aww! He matches this background colour I'm s...      0   \n",
       "2  000113f07ec002fd  Hey man, I'm really not trying to edit war. It...      0   \n",
       "3  0001b41b1c6bb37e  \"\\nMore\\nI can't make any real suggestions on ...      0   \n",
       "4  0001d958c54c6e35  You, sir, are my hero. Any chance you remember...      0   \n",
       "\n",
       "   severe_toxic  obscene  threat  insult  identity_hate  \n",
       "0             0        0       0       0              0  \n",
       "1             0        0       0       0              0  \n",
       "2             0        0       0       0              0  \n",
       "3             0        0       0       0              0  \n",
       "4             0        0       0       0              0  "
      ]
     },
     "execution_count": 3,
     "metadata": {},
     "output_type": "execute_result"
    }
   ],
   "source": [
    "df.head()"
   ]
  },
  {
   "cell_type": "code",
   "execution_count": 4,
   "metadata": {},
   "outputs": [
    {
     "data": {
      "text/plain": [
       "(159571, 8)"
      ]
     },
     "execution_count": 4,
     "metadata": {},
     "output_type": "execute_result"
    }
   ],
   "source": [
    "df.shape"
   ]
  },
  {
   "cell_type": "markdown",
   "metadata": {},
   "source": [
    "### As one of the methods to make the training simpier, use only examples, assigned to any category vs clean examples.  \n",
    "For example:  \n",
    "- Select only messages with obscene label == 1  \n",
    "- Select all of the \"clean\" messages  \n",
    "Implement a model which can perform a binary classification  - to understand whether your message is obscene or not.   "
   ]
  },
  {
   "cell_type": "markdown",
   "metadata": {},
   "source": [
    "##### If you want to perform a multilabel classification, please understand the difference between multilabel and multiclass classification and be sure that you are solving the correct task - choose only algorithms applicable for solving this type of problem."
   ]
  },
  {
   "cell_type": "markdown",
   "metadata": {},
   "source": [
    "#### To work with multiclass task:  \n",
    "You only need to select messages which have only one label assigned: message cannot be assigned to 2 or more categories.  \n",
    "\n",
    "#### To work with multilabel task: \n",
    "You can work with the whole dataset - some of your messages have only 1 label, some more than 1. "
   ]
  },
  {
   "cell_type": "markdown",
   "metadata": {},
   "source": [
    "## Text vectorization"
   ]
  },
  {
   "cell_type": "markdown",
   "metadata": {},
   "source": [
    "Previously we worked only with words vectorization. But we need to have a vector for each text, not only words from it. \n",
    "\n",
    "Before starting a text vectorization, please, make sure you are working with clean data - use the dataset created on the previous day. Cleaned from punctuation, stop words, lemmatized or stemmed, etc. "
   ]
  },
  {
   "cell_type": "code",
   "execution_count": 5,
   "metadata": {},
   "outputs": [],
   "source": [
    "from string import punctuation\n",
    "\n",
    "from nltk.tokenize import word_tokenize\n",
    "from nltk.corpus import stopwords\n",
    "from nltk.stem import WordNetLemmatizer \n",
    "\n",
    "lemmatizer = WordNetLemmatizer() \n",
    "stop_words = set(stopwords.words('english'))"
   ]
  },
  {
   "cell_type": "code",
   "execution_count": 6,
   "metadata": {},
   "outputs": [],
   "source": [
    "def preprocess_text(tokenizer, lemmatizer, stop_words, punctuation, text): \n",
    "    tokens = tokenizer(text.lower())\n",
    "    lemmas = [lemmatizer.lemmatize(token) for token in tokens]\n",
    "    return [token for token in lemmas if token not in stop_words and token not in punctuation]\n",
    "\n",
    "df['cleaned'] = df.comment_text.apply(lambda x: preprocess_text(word_tokenize, lemmatizer, stop_words, punctuation, x))"
   ]
  },
  {
   "cell_type": "code",
   "execution_count": 7,
   "metadata": {},
   "outputs": [
    {
     "data": {
      "text/html": [
       "<div>\n",
       "<style scoped>\n",
       "    .dataframe tbody tr th:only-of-type {\n",
       "        vertical-align: middle;\n",
       "    }\n",
       "\n",
       "    .dataframe tbody tr th {\n",
       "        vertical-align: top;\n",
       "    }\n",
       "\n",
       "    .dataframe thead th {\n",
       "        text-align: right;\n",
       "    }\n",
       "</style>\n",
       "<table border=\"1\" class=\"dataframe\">\n",
       "  <thead>\n",
       "    <tr style=\"text-align: right;\">\n",
       "      <th></th>\n",
       "      <th>id</th>\n",
       "      <th>comment_text</th>\n",
       "      <th>toxic</th>\n",
       "      <th>severe_toxic</th>\n",
       "      <th>obscene</th>\n",
       "      <th>threat</th>\n",
       "      <th>insult</th>\n",
       "      <th>identity_hate</th>\n",
       "      <th>cleaned</th>\n",
       "    </tr>\n",
       "  </thead>\n",
       "  <tbody>\n",
       "    <tr>\n",
       "      <th>0</th>\n",
       "      <td>0000997932d777bf</td>\n",
       "      <td>Explanation\\nWhy the edits made under my usern...</td>\n",
       "      <td>0</td>\n",
       "      <td>0</td>\n",
       "      <td>0</td>\n",
       "      <td>0</td>\n",
       "      <td>0</td>\n",
       "      <td>0</td>\n",
       "      <td>[explanation, edits, made, username, hardcore,...</td>\n",
       "    </tr>\n",
       "    <tr>\n",
       "      <th>1</th>\n",
       "      <td>000103f0d9cfb60f</td>\n",
       "      <td>D'aww! He matches this background colour I'm s...</td>\n",
       "      <td>0</td>\n",
       "      <td>0</td>\n",
       "      <td>0</td>\n",
       "      <td>0</td>\n",
       "      <td>0</td>\n",
       "      <td>0</td>\n",
       "      <td>[d'aww, match, background, colour, 'm, seeming...</td>\n",
       "    </tr>\n",
       "    <tr>\n",
       "      <th>2</th>\n",
       "      <td>000113f07ec002fd</td>\n",
       "      <td>Hey man, I'm really not trying to edit war. It...</td>\n",
       "      <td>0</td>\n",
       "      <td>0</td>\n",
       "      <td>0</td>\n",
       "      <td>0</td>\n",
       "      <td>0</td>\n",
       "      <td>0</td>\n",
       "      <td>[hey, man, 'm, really, trying, edit, war, 's, ...</td>\n",
       "    </tr>\n",
       "    <tr>\n",
       "      <th>3</th>\n",
       "      <td>0001b41b1c6bb37e</td>\n",
       "      <td>\"\\nMore\\nI can't make any real suggestions on ...</td>\n",
       "      <td>0</td>\n",
       "      <td>0</td>\n",
       "      <td>0</td>\n",
       "      <td>0</td>\n",
       "      <td>0</td>\n",
       "      <td>0</td>\n",
       "      <td>[``, ca, n't, make, real, suggestion, improvem...</td>\n",
       "    </tr>\n",
       "    <tr>\n",
       "      <th>4</th>\n",
       "      <td>0001d958c54c6e35</td>\n",
       "      <td>You, sir, are my hero. Any chance you remember...</td>\n",
       "      <td>0</td>\n",
       "      <td>0</td>\n",
       "      <td>0</td>\n",
       "      <td>0</td>\n",
       "      <td>0</td>\n",
       "      <td>0</td>\n",
       "      <td>[sir, hero, chance, remember, page, 's]</td>\n",
       "    </tr>\n",
       "  </tbody>\n",
       "</table>\n",
       "</div>"
      ],
      "text/plain": [
       "                 id                                       comment_text  toxic  \\\n",
       "0  0000997932d777bf  Explanation\\nWhy the edits made under my usern...      0   \n",
       "1  000103f0d9cfb60f  D'aww! He matches this background colour I'm s...      0   \n",
       "2  000113f07ec002fd  Hey man, I'm really not trying to edit war. It...      0   \n",
       "3  0001b41b1c6bb37e  \"\\nMore\\nI can't make any real suggestions on ...      0   \n",
       "4  0001d958c54c6e35  You, sir, are my hero. Any chance you remember...      0   \n",
       "\n",
       "   severe_toxic  obscene  threat  insult  identity_hate  \\\n",
       "0             0        0       0       0              0   \n",
       "1             0        0       0       0              0   \n",
       "2             0        0       0       0              0   \n",
       "3             0        0       0       0              0   \n",
       "4             0        0       0       0              0   \n",
       "\n",
       "                                             cleaned  \n",
       "0  [explanation, edits, made, username, hardcore,...  \n",
       "1  [d'aww, match, background, colour, 'm, seeming...  \n",
       "2  [hey, man, 'm, really, trying, edit, war, 's, ...  \n",
       "3  [``, ca, n't, make, real, suggestion, improvem...  \n",
       "4            [sir, hero, chance, remember, page, 's]  "
      ]
     },
     "execution_count": 7,
     "metadata": {},
     "output_type": "execute_result"
    }
   ],
   "source": [
    "df.head()"
   ]
  },
  {
   "cell_type": "code",
   "execution_count": 8,
   "metadata": {},
   "outputs": [],
   "source": [
    "def flat_nested(nested):\n",
    "    flatten = []\n",
    "    for item in nested:\n",
    "        if isinstance(item, list):\n",
    "            flatten.extend(item)\n",
    "        else:\n",
    "            flatten.append(item)\n",
    "    return flatten"
   ]
  },
  {
   "cell_type": "code",
   "execution_count": 9,
   "metadata": {},
   "outputs": [],
   "source": [
    "vocab = set(flat_nested(df.cleaned.tolist()))"
   ]
  },
  {
   "cell_type": "code",
   "execution_count": 10,
   "metadata": {},
   "outputs": [
    {
     "data": {
      "text/plain": [
       "249531"
      ]
     },
     "execution_count": 10,
     "metadata": {},
     "output_type": "execute_result"
    }
   ],
   "source": [
    "len(vocab)"
   ]
  },
  {
   "cell_type": "markdown",
   "metadata": {},
   "source": [
    "As we see, probably you vocabulary is too large.  \n",
    "Let's try to make it smaller.  \n",
    "For example, let's get rig of words, which has counts in our dataset less than some threshold."
   ]
  },
  {
   "cell_type": "code",
   "execution_count": 11,
   "metadata": {},
   "outputs": [],
   "source": [
    "from collections import Counter, defaultdict \n",
    "\n",
    "cnt_vocab = Counter(flat_nested(df.cleaned.tolist()))"
   ]
  },
  {
   "cell_type": "code",
   "execution_count": 12,
   "metadata": {},
   "outputs": [
    {
     "data": {
      "text/plain": [
       "[(\"''\", 241319),\n",
       " ('``', 156982),\n",
       " ('article', 73264),\n",
       " (\"'s\", 66766),\n",
       " (\"n't\", 57144),\n",
       " ('wa', 56590),\n",
       " ('page', 56239),\n",
       " ('wikipedia', 45413),\n",
       " ('talk', 35356),\n",
       " ('ha', 31896)]"
      ]
     },
     "execution_count": 12,
     "metadata": {},
     "output_type": "execute_result"
    }
   ],
   "source": [
    "cnt_vocab.most_common(10)"
   ]
  },
  {
   "cell_type": "markdown",
   "metadata": {},
   "source": [
    "You can clean words which are shorter that particular length and occur less than N times. "
   ]
  },
  {
   "cell_type": "code",
   "execution_count": 13,
   "metadata": {},
   "outputs": [],
   "source": [
    "threshold_count = 10\n",
    "threshold_len = 4 \n",
    "cleaned_vocab = [token for token, count in cnt_vocab.items() if count > threshold_count and len(token) > threshold_len]"
   ]
  },
  {
   "cell_type": "code",
   "execution_count": 14,
   "metadata": {},
   "outputs": [
    {
     "data": {
      "text/plain": [
       "18705"
      ]
     },
     "execution_count": 14,
     "metadata": {},
     "output_type": "execute_result"
    }
   ],
   "source": [
    "len(cleaned_vocab)"
   ]
  },
  {
   "cell_type": "markdown",
   "metadata": {},
   "source": [
    "Much better!  \n",
    "Let's try to vectorize the text summing one-hot vectors for each word. "
   ]
  },
  {
   "cell_type": "code",
   "execution_count": 15,
   "metadata": {},
   "outputs": [],
   "source": [
    "vocabulary = defaultdict()\n",
    "\n",
    "for i, token in enumerate(cleaned_vocab): \n",
    "    empty_vec = np.zeros(len(cleaned_vocab))\n",
    "    empty_vec[i] = 1 \n",
    "    vocabulary[token] = empty_vec"
   ]
  },
  {
   "cell_type": "code",
   "execution_count": 16,
   "metadata": {},
   "outputs": [
    {
     "data": {
      "text/plain": [
       "array([0., 0., 0., ..., 0., 0., 0.])"
      ]
     },
     "execution_count": 16,
     "metadata": {},
     "output_type": "execute_result"
    }
   ],
   "source": [
    "vocabulary['hardcore']"
   ]
  },
  {
   "cell_type": "markdown",
   "metadata": {},
   "source": [
    "Rigth now we have vectors for words (words are one-hot vectorized)  \n",
    "Let's try to create vectors for texts: "
   ]
  },
  {
   "cell_type": "code",
   "execution_count": 17,
   "metadata": {},
   "outputs": [
    {
     "name": "stdout",
     "output_type": "stream",
     "text": [
      "['``', 'fair', 'use', 'rationale', 'image', 'wonju.jpg', 'thanks', 'uploading', 'image', 'wonju.jpg', 'notice', 'image', 'page', 'specifies', 'image', 'used', 'fair', 'use', 'explanation', 'rationale', 'use', 'wikipedia', 'article', 'constitutes', 'fair', 'use', 'addition', 'boilerplate', 'fair', 'use', 'template', 'must', 'also', 'write', 'image', 'description', 'page', 'specific', 'explanation', 'rationale', 'using', 'image', 'article', 'consistent', 'fair', 'use', 'please', 'go', 'image', 'description', 'page', 'edit', 'include', 'fair', 'use', 'rationale', 'uploaded', 'fair', 'use', 'medium', 'consider', 'checking', 'specified', 'fair', 'use', 'rationale', 'page', 'find', 'list', \"'image\", 'page', 'edited', 'clicking', '``', \"''\", 'contribution', \"''\", \"''\", 'link', 'located', 'top', 'wikipedia', 'page', 'logged', 'selecting', '``', \"''\", 'image', \"''\", \"''\", 'dropdown', 'box', 'note', 'fair', 'use', 'image', 'uploaded', '4', 'may', '2006', 'lacking', 'explanation', 'deleted', 'one', 'week', 'uploaded', 'described', 'criterion', 'speedy', 'deletion', 'question', 'please', 'ask', 'medium', 'copyright', 'question', 'page', 'thank', 'talk', '•', 'contribs', '•', 'unspecified', 'source', 'image', 'wonju.jpg', 'thanks', 'uploading', 'image', 'wonju.jpg', 'noticed', 'file', \"'s\", 'description', 'page', 'currently', 'doe', \"n't\", 'specify', 'created', 'content', 'copyright', 'status', 'unclear', 'create', 'file', 'need', 'specify', 'owner', 'copyright', 'obtained', 'website', 'link', 'website', 'wa', 'taken', 'together', 'restatement', 'website', \"'s\", 'term', 'use', 'content', 'usually', 'sufficient', 'information', 'however', 'copyright', 'holder', 'different', 'website', \"'s\", 'publisher', 'copyright', 'also', 'acknowledged', 'well', 'adding', 'source', 'please', 'add', 'proper', 'copyright', 'licensing', 'tag', 'file', 'doe', \"n't\", 'one', 'already', 'created/took', 'picture', 'audio', 'video', 'tag', 'used', 'release', 'gfdl', 'believe', 'medium', 'meet', 'criterion', 'wikipedia', 'fair', 'use', 'use', 'tag', 'one', 'tag', 'listed', 'wikipedia', 'image', 'copyright', 'tag', 'fair', 'use', 'see', 'wikipedia', 'image', 'copyright', 'tag', 'full', 'list', 'copyright', 'tag', 'use', 'uploaded', 'file', 'consider', 'checking', 'specified', 'source', 'tagged', 'find', 'list', 'file', 'uploaded', 'following', 'link', 'unsourced', 'untagged', 'image', 'may', 'deleted', 'one', 'week', 'tagged', 'described', 'criterion', 'speedy', 'deletion', 'image', 'copyrighted', 'non-free', 'license', 'per', 'wikipedia', 'fair', 'use', 'image', 'deleted', '48', 'hour', 'question', 'please', 'ask', 'medium', 'copyright', 'question', 'page', 'thank', 'talk', '•', 'contribs', '•', '``']\n"
     ]
    }
   ],
   "source": [
    "sample_text = df.cleaned[10]\n",
    "print(sample_text)"
   ]
  },
  {
   "cell_type": "markdown",
   "metadata": {},
   "source": [
    "### One-hot vectorization and count vectorization"
   ]
  },
  {
   "cell_type": "code",
   "execution_count": 18,
   "metadata": {},
   "outputs": [],
   "source": [
    "sample_vector = np.zeros(len(cleaned_vocab))\n",
    "\n",
    "for token in sample_text: \n",
    "    try: \n",
    "        sample_vector += vocabulary[token]\n",
    "    except KeyError: \n",
    "\n",
    "        continue"
   ]
  },
  {
   "cell_type": "code",
   "execution_count": 19,
   "metadata": {},
   "outputs": [
    {
     "data": {
      "text/plain": [
       "array([3., 0., 0., ..., 0., 0., 0.])"
      ]
     },
     "execution_count": 19,
     "metadata": {},
     "output_type": "execute_result"
    }
   ],
   "source": [
    "sample_vector"
   ]
  },
  {
   "cell_type": "markdown",
   "metadata": {},
   "source": [
    "Right now we have count vectorization for our text.   \n",
    "Use this pipeline to create vectors for all of the texts. Save them into np.array. i-th raw in np.array is a vector which represents i-th text from the dataframe.  "
   ]
  },
  {
   "cell_type": "code",
   "execution_count": 20,
   "metadata": {},
   "outputs": [],
   "source": [
    "def vocabulary_interact_vect(\n",
    "    sample_text:     np.ndarray,\n",
    "    vocabulary_len:  int,\n",
    "    vect_vocabulary: defaultdict):\n",
    "    text_vector = np.zeros(len(vect_vocabulary))\n",
    "    for token in sample_text:\n",
    "        try: \n",
    "            text_vector += vect_vocabulary[token]\n",
    "        except KeyError: \n",
    "            continue\n",
    "    return text_vector\n",
    "\n",
    "\n",
    "# because we're going to use matrix interpret on train/test data\n",
    "# by the way, this algorithm is pretty slow, but gives correct results\n",
    "def vocabulary_interact_sparse(\n",
    "    corpus:          pd.Series,\n",
    "    vocabulary_len:  int,\n",
    "    vect_vocabulary: defaultdict):\n",
    "    corpus_len = len(corpus)\n",
    "    texts_vectorized = csr_matrix((corpus_len, vocabulary_len))\n",
    "    for j in range(corpus_len):\n",
    "        current_text_vector = vocabulary_interact_vect(\n",
    "            corpus[j], vocabulary_len, vect_vocabulary\n",
    "        )\n",
    "        \n",
    "        current_sparse_matr = csr_matrix(\n",
    "            (current_text_vector,(np.full(N, j),np.arange(N))), \n",
    "            shape = (corpus_len, vocabulary_len)\n",
    "        )\n",
    "        \n",
    "        texts_vectorized += current_sparse_matr\n",
    "    \n",
    "    return texts_vectorized"
   ]
  },
  {
   "cell_type": "code",
   "execution_count": 21,
   "metadata": {},
   "outputs": [
    {
     "data": {
      "text/plain": [
       "array([[3., 0., 0., ..., 0., 0., 0.]])"
      ]
     },
     "execution_count": 21,
     "metadata": {},
     "output_type": "execute_result"
    }
   ],
   "source": [
    "N = len(cleaned_vocab)\n",
    "\n",
    "text_vectorized = vocabulary_interact_sparse(\n",
    "    corpus = pd.Series([df.cleaned[10]]), vocabulary_len = N, vect_vocabulary = vocabulary\n",
    ")\n",
    "\n",
    "text_vectorized.toarray()"
   ]
  },
  {
   "cell_type": "code",
   "execution_count": 22,
   "metadata": {},
   "outputs": [],
   "source": [
    "util_load = True\n",
    "\n",
    "path0 = os.getcwd() + os.sep + 'document_term_matrix.npz'\n",
    "\n",
    "if util_load:\n",
    "    text_vectorized = load_npz(path0)\n",
    "else:\n",
    "    text_vectorized = vocabulary_interact_sparse(\n",
    "        corpus = df.cleaned, vocabulary_len = N, vect_vocabulary = vocabulary\n",
    "    )"
   ]
  },
  {
   "cell_type": "code",
   "execution_count": 23,
   "metadata": {},
   "outputs": [
    {
     "data": {
      "text/plain": [
       "<159571x18705 sparse matrix of type '<class 'numpy.float64'>'\n",
       "\twith 2717363 stored elements in Compressed Sparse Row format>"
      ]
     },
     "execution_count": 23,
     "metadata": {},
     "output_type": "execute_result"
    }
   ],
   "source": [
    "text_vectorized"
   ]
  },
  {
   "cell_type": "code",
   "execution_count": 24,
   "metadata": {},
   "outputs": [],
   "source": [
    "util_save = False\n",
    "\n",
    "if util_save:\n",
    "    save_npz(path0, text_vectorized)\n",
    "    \n",
    "util_del = True\n",
    "\n",
    "if util_del:\n",
    "    del text_vectorized"
   ]
  },
  {
   "cell_type": "markdown",
   "metadata": {},
   "source": [
    "### The next step is to train any classification model on top of the received vectors and report the quality. "
   ]
  },
  {
   "cell_type": "markdown",
   "metadata": {},
   "source": [
    "Please, select any of the proposed pipelines for performing a text classification task. (Binary, multiclass or multilabel).  "
   ]
  },
  {
   "cell_type": "markdown",
   "metadata": {},
   "source": [
    "The main task to calculate our models performance is to create a training and test sets. When you selected a texts for your task, please, use https://scikit-learn.org/stable/modules/generated/sklearn.model_selection.train_test_split.html to have at least two sets - train and test.  \n",
    "\n",
    "Train examples you will use to train your model on and test examples to evaluate your model - to understand how your model works on the unseen data. "
   ]
  },
  {
   "cell_type": "markdown",
   "metadata": {},
   "source": [
    "### Train-test split "
   ]
  },
  {
   "cell_type": "code",
   "execution_count": 25,
   "metadata": {},
   "outputs": [
    {
     "name": "stdout",
     "output_type": "stream",
     "text": [
      "   label                                              texts\n",
      "0      0  [explanation, edits, made, username, hardcore,...\n",
      "1      0  [d'aww, match, background, colour, 'm, seeming...\n",
      "2      0  [hey, man, 'm, really, trying, edit, war, 's, ...\n",
      "3      0  [``, ca, n't, make, real, suggestion, improvem...\n",
      "4      0            [sir, hero, chance, remember, page, 's]\n",
      "\n",
      "        label                                              texts\n",
      "151218      1  [``, previous, conversation, fucking, shit, ea...\n",
      "151219      1                        [mischievious, pubic, hair]\n",
      "151220      1  [absurd, edits, absurd, edits, great, white, s...\n",
      "151221      1  [``, hey, listen, n't, ever, delete, edits, ev...\n",
      "151222      1  ['m, going, keep, posting, stuff, u, deleted, ...\n"
     ]
    }
   ],
   "source": [
    "### Your code here, splitting your dataset into train and test parts.\n",
    "\n",
    "# This time i'm going to handle binary classification task\n",
    "# First of all, I'll divide df into two separate groups:\n",
    "# - non-toxic data\n",
    "# - insult labelled data\n",
    "\n",
    "df_categories = [\n",
    "    'identity_hate', 'insult', 'obscene', 'severe_toxic', 'threat', 'toxic'\n",
    "]\n",
    "\n",
    "crucial_data = df[[df_categories[1], 'cleaned']]\n",
    "\n",
    "df_non_toxic = crucial_data[~df[df_categories].any(axis = 'columns')]\n",
    "df_insulting = crucial_data[df.insult != 0]\n",
    "\n",
    "df_combined = df_non_toxic.append(df_insulting).reset_index(drop = True)\n",
    "df_combined.columns = ['label', 'texts']\n",
    "\n",
    "print(\n",
    "    df_combined.head(),\n",
    "    df_combined.tail(),\n",
    "    sep = '\\n\\n'\n",
    ")"
   ]
  },
  {
   "cell_type": "code",
   "execution_count": 26,
   "metadata": {},
   "outputs": [],
   "source": [
    "from sklearn.model_selection import train_test_split\n",
    "\n",
    "custom_test_size = 0.25\n",
    "\n",
    "X = df_combined['texts']\n",
    "Y = df_combined['label']\n",
    "\n",
    "# making train and test sets for future model\n",
    "X_train, X_test, Y_train, Y_test = train_test_split(\n",
    "    X, Y, test_size = custom_test_size\n",
    ")\n",
    "\n",
    "X_train = X_train.reset_index(drop = True)\n",
    "X_test = X_test.reset_index(drop = True)\n",
    "\n",
    "Y_train = Y_train.reset_index(drop = True)\n",
    "Y_test = Y_test.reset_index(drop = True)"
   ]
  },
  {
   "cell_type": "code",
   "execution_count": 27,
   "metadata": {},
   "outputs": [
    {
     "data": {
      "text/plain": [
       "0           [block, ever, block, ever, *bangs, table*]\n",
       "1    [arvanitas, autochthon, karaguni, withour, ‘, ...\n",
       "2    [french, fry, clue, chip, ..., .., 94.168.193.75]\n",
       "3    [``, term, ``, '', massive, star, '', '', defi...\n",
       "4    [``, please, provide, way, explain, look, like...\n",
       "Name: texts, dtype: object"
      ]
     },
     "execution_count": 27,
     "metadata": {},
     "output_type": "execute_result"
    }
   ],
   "source": [
    "# Train set\n",
    "X_train.head()"
   ]
  },
  {
   "cell_type": "code",
   "execution_count": 28,
   "metadata": {},
   "outputs": [
    {
     "data": {
      "text/plain": [
       "0    [noticed, commented, article, talk, page, dele...\n",
       "1                                 [ha, since, removed]\n",
       "2    [``, ``, '', father, nation, '', '', infobox, ...\n",
       "3    [``, :i, 'm, curious, sir, fozzie, ``, '', bur...\n",
       "4    [spot, 'islam, 'feminism, 'veganism, etc., com...\n",
       "Name: texts, dtype: object"
      ]
     },
     "execution_count": 28,
     "metadata": {},
     "output_type": "execute_result"
    }
   ],
   "source": [
    "# Test set\n",
    "X_test.head()"
   ]
  },
  {
   "cell_type": "markdown",
   "metadata": {},
   "source": [
    "### TF-IDF score "
   ]
  },
  {
   "cell_type": "markdown",
   "metadata": {},
   "source": [
    "#### Please, review again this article or read it if you have not done it before. \n",
    "\n",
    "https://medium.com/@paritosh_30025/natural-language-processing-text-data-vectorization-af2520529cf7"
   ]
  },
  {
   "cell_type": "markdown",
   "metadata": {},
   "source": [
    "#### Implement calculating a tf-idf score for each of the words from your vocabulary. \n",
    "\n",
    "The main goal of this task is to create a dictionary - keys of the dictionary would be tokens and values would be corresponding tf-idf score of the token.\n",
    "\n",
    "#### Calculate it MANUALLY and compare the received scores for words with the sklearn implementation:  "
   ]
  },
  {
   "cell_type": "markdown",
   "metadata": {},
   "source": [
    "#### Tip: \n",
    "\n",
    "##### TF = (Number of time the word occurs in the current text) / (Total number of words in the current text)  \n",
    "\n",
    "##### IDF = (Total number of documents / Number of documents with word t in it)\n",
    "\n",
    "##### TF-IDF = TF*IDF "
   ]
  },
  {
   "cell_type": "markdown",
   "metadata": {},
   "source": [
    "When you calculated a tf-idf score for each of the words in your vocabulary - revectorize the texts.  \n",
    "Instead of using number of occurences of the i-th word in the i-th cell of the text vector, use it's tf-idf score.   \n",
    "\n",
    "Revectorize the documents, save vectors into np.array. "
   ]
  },
  {
   "cell_type": "code",
   "execution_count": 372,
   "metadata": {},
   "outputs": [],
   "source": [
    "### Your code here for obtaining a tf-idf vectorized documents. \n",
    "\n",
    "# Like mentioned above, we're going to define \n",
    "# the tf-idf vectorization method manually.\n",
    "\n",
    "def TF_binary(\n",
    "    term:     str,       # our token\n",
    "    document: list):     # our text - a list of cleaned tokens\n",
    "    pass\n",
    "\n",
    "\n",
    "def TF(\n",
    "    term:     str,       # our token\n",
    "    document: list):     # our text - a list of cleaned tokens\n",
    "    pass\n",
    "\n",
    "\n",
    "def IDF(\n",
    "    term:     str,       # our token\n",
    "    corpus:   pd.Series, # list of all texts, to which the mentioned one belongs\n",
    "    use_log:  bool):     # apply log func on a result or not\n",
    "    pass\n",
    "\n",
    "\n",
    "def TF_IDF(\n",
    "    term:     str,       # our token\n",
    "    document: list,      # our text - a list of cleaned tokens\n",
    "    corpus:   pd.Series, # list of all texts, to which the mentioned one belongs\n",
    "    use_log:  bool):     # use IDF or IDF_enchanced in calculations below\n",
    "    pass"
   ]
  },
  {
   "cell_type": "code",
   "execution_count": 404,
   "metadata": {},
   "outputs": [],
   "source": [
    "def TF_IDF_sparse_smooth(document_term_matr: csr_matrix): # ispired by numpy potential and sklearn source code\n",
    "    result_matr = csr_matrix(document_term_matr, dtype=np.float64, copy=True)\n",
    "    \n",
    "    corpus_len, vocab_len = result_matr.shape\n",
    "    docmntfreq = np.bincount(result_matr.indices, minlength=result_matr.shape[1])    \n",
    "    invdocfreq = np.log(float(corpus_len + 1)/(docmntfreq + 1)) + 1\n",
    "    \n",
    "    idf_matrix = spdiags(invdocfreq, diags=0, m=vocab_len, n=vocab_len)\n",
    "    result_matr = result_matr * idf_matrix\n",
    "    print(np.ravel(idf_matrix.sum(axis=0))) # idf for each word, ravel <-> flatten\n",
    "    \n",
    "    return result_matr # returns tf-idf matrix"
   ]
  },
  {
   "cell_type": "code",
   "execution_count": 405,
   "metadata": {},
   "outputs": [
    {
     "data": {
      "text/plain": [
       "<113417x18705 sparse matrix of type '<class 'numpy.float64'>'\n",
       "\twith 1967295 stored elements in Compressed Sparse Row format>"
      ]
     },
     "execution_count": 405,
     "metadata": {},
     "output_type": "execute_result"
    }
   ],
   "source": [
    "# no-sklearn implementation:\n",
    "# code for vocabulary_interact_sparse use\n",
    "\n",
    "path1 = os.getcwd() + os.sep + 'x_train_tf_idf_sparse.npz'\n",
    "\n",
    "if util_load:\n",
    "    X_train_count_matrix = load_npz(path1)\n",
    "else:\n",
    "    X_train_count_matrix = vocabulary_interact_sparse(\n",
    "        corpus = X_train, vocabulary_len = N, vect_vocabulary = vocabulary\n",
    "    )\n",
    "\n",
    "X_train_count_matrix"
   ]
  },
  {
   "cell_type": "code",
   "execution_count": 406,
   "metadata": {},
   "outputs": [
    {
     "name": "stdout",
     "output_type": "stream",
     "text": [
      "[ 5.53798348  4.04894951  5.83755235 ... 12.63883539 11.94568821\n",
      " 11.94568821]\n"
     ]
    },
    {
     "data": {
      "text/plain": [
       "<113417x18705 sparse matrix of type '<class 'numpy.float64'>'\n",
       "\twith 1967295 stored elements in Compressed Sparse Row format>"
      ]
     },
     "execution_count": 406,
     "metadata": {},
     "output_type": "execute_result"
    }
   ],
   "source": [
    "# code for TF_IDF_sparse_smooth use\n",
    "# considering that manual implementation of tf-idf is slow, we'll show the results for shortened vocabulary\n",
    "\n",
    "X_train_tf_idf_manual = TF_IDF_sparse_smooth(X_train_count_matrix)\n",
    "X_train_tf_idf_manual"
   ]
  },
  {
   "cell_type": "code",
   "execution_count": 400,
   "metadata": {},
   "outputs": [
    {
     "data": {
      "text/plain": [
       "<113417x18705 sparse matrix of type '<class 'numpy.float64'>'\n",
       "\twith 1985383 stored elements in Compressed Sparse Row format>"
      ]
     },
     "execution_count": 400,
     "metadata": {},
     "output_type": "execute_result"
    }
   ],
   "source": [
    "pipeline_simplified = Pipeline(\n",
    "    [\n",
    "        ('cnt-matr', CountVectorizer(vocabulary = cleaned_vocab)),\n",
    "        ('tf-idf-sparse-matr', TfidfTransformer(norm = None))\n",
    "    ]\n",
    ").fit(X_train.str.join(' '))\n",
    "\n",
    "X_train_tf_idf_simpl = pipeline_simplified.transform(X_train.str.join(' '))\n",
    "X_train_tf_idf_simpl # differs from matrix above, because of methods defined in transformer to reduce no. of features, etc."
   ]
  },
  {
   "cell_type": "code",
   "execution_count": 407,
   "metadata": {},
   "outputs": [
    {
     "data": {
      "text/plain": [
       "<113417x18705 sparse matrix of type '<class 'numpy.float64'>'\n",
       "\twith 1967295 stored elements in Compressed Sparse Row format>"
      ]
     },
     "execution_count": 407,
     "metadata": {},
     "output_type": "execute_result"
    }
   ],
   "source": [
    "trans_wo_norm = TfidfTransformer(norm = None)\n",
    "X_train_cnt_to_tf_idf = trans_wo_norm.fit_transform(X_train_count_matrix)\n",
    "X_train_cnt_to_tf_idf"
   ]
  },
  {
   "cell_type": "code",
   "execution_count": 408,
   "metadata": {},
   "outputs": [
    {
     "data": {
      "text/plain": [
       "array([ 5.53798348,  4.04894951,  5.83755235, ..., 12.63883539,\n",
       "       11.94568821, 11.94568821])"
      ]
     },
     "execution_count": 408,
     "metadata": {},
     "output_type": "execute_result"
    }
   ],
   "source": [
    "trans_wo_norm.idf_"
   ]
  },
  {
   "cell_type": "code",
   "execution_count": 412,
   "metadata": {},
   "outputs": [
    {
     "data": {
      "text/plain": [
       "<113417x18705 sparse matrix of type '<class 'numpy.bool_'>'\n",
       "\twith 0 stored elements in Compressed Sparse Row format>"
      ]
     },
     "execution_count": 412,
     "metadata": {},
     "output_type": "execute_result"
    }
   ],
   "source": [
    "(X_train_cnt_to_tf_idf != X_train_tf_idf_manual).nnz == 0 \n",
    "# equal; calc different elems in sparse matrices if more efficient than calc equal ones\n",
    "# .nnz <-> number of non-zero elems; in this case: number of different elements in matrices"
   ]
  },
  {
   "cell_type": "code",
   "execution_count": 35,
   "metadata": {},
   "outputs": [],
   "source": [
    "if util_save:\n",
    "    \n",
    "    save_npz(path1, X_train_count_matrix)\n",
    "    \n",
    "if util_del:\n",
    "    \n",
    "    del X_train_count_matrix"
   ]
  },
  {
   "cell_type": "code",
   "execution_count": 148,
   "metadata": {},
   "outputs": [],
   "source": [
    "# sklearn implementation\n",
    "\n",
    "X_train_concat = X_train.str.join(' ')\n",
    "X_test_concat = X_test.str.join(' ')\n",
    "\n",
    "pipeline_global = Pipeline(\n",
    "    [\n",
    "        ('cnt-matr', CountVectorizer(vocabulary = cleaned_vocab)),\n",
    "        ('tf-idf-sparse-matr', TfidfTransformer())\n",
    "    ]\n",
    ")\n",
    "\n",
    "X_train_tf_idf_sparse = pipeline_global.fit_transform(X_train_concat)\n",
    "X_test_tf_idf_sparse = pipeline_global.transform(X_test_concat)"
   ]
  },
  {
   "cell_type": "code",
   "execution_count": 387,
   "metadata": {},
   "outputs": [
    {
     "data": {
      "text/plain": [
       "<113417x18705 sparse matrix of type '<class 'numpy.float64'>'\n",
       "\twith 1985383 stored elements in Compressed Sparse Row format>"
      ]
     },
     "execution_count": 387,
     "metadata": {},
     "output_type": "execute_result"
    }
   ],
   "source": [
    "X_train_tf_idf_sparse"
   ]
  },
  {
   "cell_type": "markdown",
   "metadata": {},
   "source": [
    "### Training the model "
   ]
  },
  {
   "cell_type": "markdown",
   "metadata": {},
   "source": [
    "As it was said before, select any of the text classification models for the selected task and train the model. \n",
    "\n",
    "When the model is trained, you need to evaluate it somehow. \n",
    "\n",
    "Read about True positive, False positive, False negative and True negative counts and how to calculate them:   \n",
    "\n",
    "https://developers.google.com/machine-learning/crash-course/classification/true-false-positive-negative \n",
    "\n",
    "##### Calculate TP, FP, FN and TN on the test set for your model to measure its performance. \n"
   ]
  },
  {
   "cell_type": "code",
   "execution_count": 39,
   "metadata": {},
   "outputs": [],
   "source": [
    "linear_classifier = LogisticRegression(\n",
    "    random_state = 0                     # <=> seed equiv.\n",
    ").fit(X_train_tf_idf_sparse, Y_train)"
   ]
  },
  {
   "cell_type": "code",
   "execution_count": 40,
   "metadata": {},
   "outputs": [
    {
     "name": "stdout",
     "output_type": "stream",
     "text": [
      "(37806,)\n",
      "(37806,)\n"
     ]
    }
   ],
   "source": [
    "#linear_classifier.score(X_train_tf_idf_sparse, Y)\n",
    "\n",
    "Y_prediction = linear_classifier.predict(X_test_tf_idf_sparse)\n",
    "\n",
    "print(Y_prediction.shape)\n",
    "print(Y_test.shape)"
   ]
  },
  {
   "cell_type": "code",
   "execution_count": 41,
   "metadata": {},
   "outputs": [
    {
     "name": "stdout",
     "output_type": "stream",
     "text": [
      "[ True]\n"
     ]
    },
    {
     "data": {
      "text/plain": [
       "array([[35744,    45],\n",
       "       [  983,  1034]])"
      ]
     },
     "execution_count": 41,
     "metadata": {},
     "output_type": "execute_result"
    }
   ],
   "source": [
    "# assuming that we have only 0 or 1 in Y_test/Y_pred\n",
    "\n",
    "def TP_FP_FN_TN(\n",
    "    y_test,       # validated labels\n",
    "    y_pred):      # predicted labels\n",
    "    TN = lambda y_test, y_pred: np.sum([(y_test==y_pred) & y_test]) \n",
    "    TP = lambda y_test, y_pred: np.sum([(y_test==y_pred) & ~y_test])\n",
    "    \n",
    "    FN = lambda y_test, y_pred: np.sum([(y_test!=y_pred) & y_test])\n",
    "    FP = lambda y_test, y_pred: np.sum([~((y_test==y_pred) | y_test)])\n",
    "    \n",
    "    return np.array(list(map(lambda f: f(y_test, y_pred),[TP, FP, FN, TN]))).reshape((2, 2))\n",
    "\n",
    "\n",
    "outcomes = TP_FP_FN_TN(Y_test, Y_prediction)\n",
    "print(Y_prediction.shape == np.sum(outcomes))\n",
    "outcomes"
   ]
  },
  {
   "cell_type": "markdown",
   "metadata": {},
   "source": [
    "#### The next step is to calculate  Precision, Recall, F1 and F2 score \n",
    "\n",
    "https://en.wikipedia.org/wiki/Sensitivity_and_specificity"
   ]
  },
  {
   "cell_type": "code",
   "execution_count": 42,
   "metadata": {},
   "outputs": [
    {
     "name": "stdout",
     "output_type": "stream",
     "text": [
      "[[35744   983]\n",
      " [   45  1034]]\n"
     ]
    },
    {
     "data": {
      "text/plain": [
       "{'PRE': 0.9732349497644784,\n",
       " 'REC': 0.9987426304171673,\n",
       " 'F1S': 0.9858238181918473,\n",
       " 'F2S': 0.9935346864350717,\n",
       " 'ACC': 0.9728085489075808}"
      ]
     },
     "execution_count": 42,
     "metadata": {},
     "output_type": "execute_result"
    }
   ],
   "source": [
    "def model_report(\n",
    "    y_test,       # validated labels\n",
    "    y_pred):      # predicted labels\n",
    "    \n",
    "    confusion_matr = np.transpose(TP_FP_FN_TN(y_test, y_pred))\n",
    "    \n",
    "    # [TP FP]\n",
    "    # [FN TN]\n",
    "    \n",
    "    PRE = confusion_matr[0,0]/np.sum(confusion_matr[0,:])\n",
    "    REC = confusion_matr[0,0]/np.sum(confusion_matr[:,0])\n",
    "    ACC = np.trace(confusion_matr) / np.sum(confusion_matr)\n",
    "    \n",
    "    Fbeta = lambda beta: (\n",
    "        (1 + beta ** 2) * (PRE * REC) / (((beta ** 2) * PRE) + REC)\n",
    "    )\n",
    "    \n",
    "    print(confusion_matr)\n",
    "    return {\n",
    "        'PRE': PRE,\n",
    "        'REC': REC,\n",
    "        'F1S': Fbeta(1),\n",
    "        'F2S': Fbeta(2),\n",
    "        'ACC': ACC\n",
    "    }\n",
    "    \n",
    "\n",
    "model_report(Y_test, Y_prediction)"
   ]
  },
  {
   "cell_type": "code",
   "execution_count": 43,
   "metadata": {},
   "outputs": [
    {
     "data": {
      "text/plain": [
       "array([[35744,    45],\n",
       "       [  983,  1034]], dtype=int64)"
      ]
     },
     "execution_count": 43,
     "metadata": {},
     "output_type": "execute_result"
    }
   ],
   "source": [
    "# using sklearn package\n",
    "from sklearn.metrics import confusion_matrix\n",
    "confusion_matrix(Y_test, Y_prediction)"
   ]
  },
  {
   "cell_type": "code",
   "execution_count": 44,
   "metadata": {},
   "outputs": [
    {
     "name": "stdout",
     "output_type": "stream",
     "text": [
      "              precision    recall  f1-score   support\n",
      "\n",
      "           0       0.97      1.00      0.99     35789\n",
      "           1       0.96      0.51      0.67      2017\n",
      "\n",
      "    accuracy                           0.97     37806\n",
      "   macro avg       0.97      0.76      0.83     37806\n",
      "weighted avg       0.97      0.97      0.97     37806\n",
      "\n"
     ]
    }
   ],
   "source": [
    "from sklearn.metrics import classification_report\n",
    "print(classification_report(Y_test, Y_prediction))"
   ]
  },
  {
   "cell_type": "code",
   "execution_count": 45,
   "metadata": {},
   "outputs": [
    {
     "data": {
      "text/plain": [
       "0.9728085489075808"
      ]
     },
     "execution_count": 45,
     "metadata": {},
     "output_type": "execute_result"
    }
   ],
   "source": [
    "from sklearn.metrics import accuracy_score\n",
    "A0 = accuracy_score(Y_test, Y_prediction)\n",
    "A0"
   ]
  },
  {
   "cell_type": "markdown",
   "metadata": {},
   "source": [
    "Calculate these metrics for the vectorization created using count vectorizing and for tf-idf vectorization.  \n",
    "Compare them. "
   ]
  },
  {
   "cell_type": "code",
   "execution_count": 46,
   "metadata": {},
   "outputs": [],
   "source": [
    "# calculation based on count matrices\n",
    "\n",
    "X_train_q, X_test_q, Y_train_q, Y_test_q = train_test_split(\n",
    "    X, Y, test_size = custom_test_size\n",
    ")\n",
    "\n",
    "X_train_q = X_train_q.reset_index(drop = True)\n",
    "X_test_q = X_test_q.reset_index(drop = True)\n",
    "\n",
    "Y_train_q = Y_train_q.reset_index(drop = True)\n",
    "Y_test_q = Y_test_q.reset_index(drop = True)\n",
    "\n",
    "X_train_concat_q =  X_train_q.str.join(' ')\n",
    "X_test_concat_q = X_test_q.str.join(' ')\n",
    "\n",
    "cnt_vect_model = CountVectorizer(vocabulary = cleaned_vocab)\n",
    "\n",
    "X_train_q_sparse = cnt_vect_model.fit_transform(X_train_concat_q)\n",
    "X_test_q_sparse = cnt_vect_model.transform(X_test_concat_q)"
   ]
  },
  {
   "cell_type": "code",
   "execution_count": 47,
   "metadata": {},
   "outputs": [
    {
     "data": {
      "text/plain": [
       "<113417x18705 sparse matrix of type '<class 'numpy.int64'>'\n",
       "\twith 1978963 stored elements in Compressed Sparse Row format>"
      ]
     },
     "execution_count": 47,
     "metadata": {},
     "output_type": "execute_result"
    }
   ],
   "source": [
    "X_train_q_sparse"
   ]
  },
  {
   "cell_type": "code",
   "execution_count": 94,
   "metadata": {
    "scrolled": true
   },
   "outputs": [
    {
     "name": "stderr",
     "output_type": "stream",
     "text": [
      "c:\\users\\laplace-transform\\appdata\\local\\programs\\python\\python37\\lib\\site-packages\\sklearn\\linear_model\\_logistic.py:940: ConvergenceWarning: lbfgs failed to converge (status=1):\n",
      "STOP: TOTAL NO. of ITERATIONS REACHED LIMIT.\n",
      "\n",
      "Increase the number of iterations (max_iter) or scale the data as shown in:\n",
      "    https://scikit-learn.org/stable/modules/preprocessing.html\n",
      "Please also refer to the documentation for alternative solver options:\n",
      "    https://scikit-learn.org/stable/modules/linear_model.html#logistic-regression\n",
      "  extra_warning_msg=_LOGISTIC_SOLVER_CONVERGENCE_MSG)\n"
     ]
    }
   ],
   "source": [
    "linear_classifier_q = LogisticRegression(\n",
    "    C = 1,\n",
    "    random_state = 0\n",
    ").fit(X_train_q_sparse, Y_train_q) \n",
    "# too bad, count-based data does not fit.\n",
    "# but let's try another model"
   ]
  },
  {
   "cell_type": "code",
   "execution_count": 49,
   "metadata": {},
   "outputs": [],
   "source": [
    "# we're going to the forest!\n",
    "# https://towardsdatascience.com/understanding-random-forest-58381e0602d2\n",
    "# https://shorturl.at/fFOP4\n",
    "# also, https://scikit-learn.org/stable/modules/tree.html#tree"
   ]
  },
  {
   "cell_type": "code",
   "execution_count": 55,
   "metadata": {},
   "outputs": [],
   "source": [
    "rand_forest_model_q = RandomForestClassifier().fit(\n",
    "    X_train_q_sparse, Y_train_q\n",
    ")"
   ]
  },
  {
   "cell_type": "code",
   "execution_count": 56,
   "metadata": {},
   "outputs": [],
   "source": [
    "Y_prediction_q = rand_forest_model.predict(X_test_q_sparse)"
   ]
  },
  {
   "cell_type": "code",
   "execution_count": 57,
   "metadata": {},
   "outputs": [
    {
     "data": {
      "text/plain": [
       "array([[35587,   324],\n",
       "       [  684,  1211]], dtype=int64)"
      ]
     },
     "execution_count": 57,
     "metadata": {},
     "output_type": "execute_result"
    }
   ],
   "source": [
    "outcomes_q = confusion_matrix(Y_test_q, Y_prediction_q)\n",
    "outcomes_q"
   ]
  },
  {
   "cell_type": "code",
   "execution_count": 58,
   "metadata": {},
   "outputs": [
    {
     "data": {
      "text/plain": [
       "0.9733375654657991"
      ]
     },
     "execution_count": 58,
     "metadata": {},
     "output_type": "execute_result"
    }
   ],
   "source": [
    "AQ = accuracy_score(Y_test_q, Y_prediction_q)\n",
    "AQ"
   ]
  },
  {
   "cell_type": "code",
   "execution_count": 59,
   "metadata": {},
   "outputs": [
    {
     "name": "stdout",
     "output_type": "stream",
     "text": [
      "              precision    recall  f1-score   support\n",
      "\n",
      "           0       0.98      0.99      0.99     35911\n",
      "           1       0.79      0.64      0.71      1895\n",
      "\n",
      "    accuracy                           0.97     37806\n",
      "   macro avg       0.89      0.82      0.85     37806\n",
      "weighted avg       0.97      0.97      0.97     37806\n",
      "\n"
     ]
    }
   ],
   "source": [
    "print(classification_report(Y_test_q, Y_prediction_q))"
   ]
  },
  {
   "cell_type": "code",
   "execution_count": 60,
   "metadata": {},
   "outputs": [],
   "source": [
    "rand_forest_model_f = RandomForestClassifier().fit(\n",
    "    X_train_tf_idf_sparse, Y_train\n",
    ")"
   ]
  },
  {
   "cell_type": "code",
   "execution_count": 61,
   "metadata": {},
   "outputs": [],
   "source": [
    "Y_prediction_f = rand_forest_model_f.predict(X_test_tf_idf_sparse)"
   ]
  },
  {
   "cell_type": "code",
   "execution_count": 62,
   "metadata": {},
   "outputs": [
    {
     "data": {
      "text/plain": [
       "array([[35590,   199],\n",
       "       [  775,  1242]], dtype=int64)"
      ]
     },
     "execution_count": 62,
     "metadata": {},
     "output_type": "execute_result"
    }
   ],
   "source": [
    "outcomes_f = confusion_matrix(Y_test, Y_prediction_f)\n",
    "outcomes_f"
   ]
  },
  {
   "cell_type": "code",
   "execution_count": 63,
   "metadata": {},
   "outputs": [
    {
     "data": {
      "text/plain": [
       "0.9742368936147702"
      ]
     },
     "execution_count": 63,
     "metadata": {},
     "output_type": "execute_result"
    }
   ],
   "source": [
    "AF = accuracy_score(Y_test, Y_prediction_f)\n",
    "AF"
   ]
  },
  {
   "cell_type": "code",
   "execution_count": 64,
   "metadata": {},
   "outputs": [
    {
     "name": "stdout",
     "output_type": "stream",
     "text": [
      "              precision    recall  f1-score   support\n",
      "\n",
      "           0       0.98      0.99      0.99     35789\n",
      "           1       0.86      0.62      0.72      2017\n",
      "\n",
      "    accuracy                           0.97     37806\n",
      "   macro avg       0.92      0.81      0.85     37806\n",
      "weighted avg       0.97      0.97      0.97     37806\n",
      "\n"
     ]
    }
   ],
   "source": [
    "print(classification_report(Y_test, Y_prediction_f))"
   ]
  },
  {
   "cell_type": "code",
   "execution_count": 93,
   "metadata": {},
   "outputs": [
    {
     "data": {
      "text/plain": [
       "True"
      ]
     },
     "execution_count": 93,
     "metadata": {},
     "output_type": "execute_result"
    }
   ],
   "source": [
    "AQ < AF # explanation below (1)"
   ]
  },
  {
   "cell_type": "code",
   "execution_count": 66,
   "metadata": {},
   "outputs": [
    {
     "data": {
      "text/plain": [
       "True"
      ]
     },
     "execution_count": 66,
     "metadata": {},
     "output_type": "execute_result"
    }
   ],
   "source": [
    "A0 < AF # explanation below (2)"
   ]
  },
  {
   "cell_type": "code",
   "execution_count": 67,
   "metadata": {},
   "outputs": [
    {
     "data": {
      "text/plain": [
       "['rforest_tfidf_cls.joblib']"
      ]
     },
     "execution_count": 67,
     "metadata": {},
     "output_type": "execute_result"
    }
   ],
   "source": [
    "from joblib import dump\n",
    "#from joblib import load\n",
    "\n",
    "dump(linear_classifier, 'rforest_tfidf_cls.joblib')"
   ]
  },
  {
   "cell_type": "markdown",
   "metadata": {},
   "source": [
    "Пояснення:"
   ]
  },
  {
   "cell_type": "markdown",
   "metadata": {},
   "source": [
    "### Conclusions and improvements "
   ]
  },
  {
   "cell_type": "markdown",
   "metadata": {},
   "source": [
    "For all of the vectorization pipelines we used all of the words, which were available in our dictionary, as experiment try to use the most meaningful words - select them using TF-IDF score. (for example for each text you can select not more than 10 words for vectorization, or less). \n",
    "\n",
    "Compare this approach with the first and second ones. Did your model improve? \n",
    "\n"
   ]
  },
  {
   "cell_type": "code",
   "execution_count": 68,
   "metadata": {},
   "outputs": [],
   "source": [
    "# Another code for task above\n",
    "\n",
    "X_full_concat = df.cleaned.str.join(' ')\n",
    "\n",
    "pipeline_full = pipeline_global.fit(X_full_concat)\n",
    "\n",
    "X_full_concat_tf_idf = pipeline_full.transform(X_full_concat)"
   ]
  },
  {
   "cell_type": "code",
   "execution_count": 69,
   "metadata": {},
   "outputs": [
    {
     "data": {
      "text/plain": [
       "<159571x18705 sparse matrix of type '<class 'numpy.float64'>'\n",
       "\twith 2745109 stored elements in Compressed Sparse Row format>"
      ]
     },
     "execution_count": 69,
     "metadata": {},
     "output_type": "execute_result"
    }
   ],
   "source": [
    "X_full_concat_tf_idf"
   ]
  },
  {
   "cell_type": "code",
   "execution_count": 70,
   "metadata": {},
   "outputs": [
    {
     "data": {
      "text/plain": [
       "array([ 0,  1,  2,  3,  4,  5,  6,  7,  8,  9, 10, 11, 12, 13])"
      ]
     },
     "execution_count": 70,
     "metadata": {},
     "output_type": "execute_result"
    }
   ],
   "source": [
    "X_full_concat_tf_idf[0].nonzero()[1][::-1]"
   ]
  },
  {
   "cell_type": "code",
   "execution_count": 71,
   "metadata": {},
   "outputs": [],
   "source": [
    "to_filter = np.zeros(len(cleaned_vocab))\n",
    "\n",
    "M = len(X_full_concat)\n",
    "\n",
    "for j in range(M):\n",
    "    \n",
    "    to_add = np.zeros(len(cleaned_vocab))\n",
    "    \n",
    "    idx_non_zero = X_full_concat_tf_idf[j].nonzero()[1][::-1]\n",
    "    \n",
    "    np.put(to_add, idx_non_zero, np.ones(len(idx_non_zero)))\n",
    "    \n",
    "    to_filter += to_add"
   ]
  },
  {
   "cell_type": "code",
   "execution_count": 72,
   "metadata": {},
   "outputs": [
    {
     "name": "stdout",
     "output_type": "stream",
     "text": [
      "2745109 2745109.0\n"
     ]
    }
   ],
   "source": [
    "print(len(X_full_concat_tf_idf.nonzero()[0]), sum(to_filter))"
   ]
  },
  {
   "cell_type": "code",
   "execution_count": 73,
   "metadata": {},
   "outputs": [
    {
     "data": {
      "text/plain": [
       "17409"
      ]
     },
     "execution_count": 73,
     "metadata": {},
     "output_type": "execute_result"
    }
   ],
   "source": [
    "len(to_filter[to_filter != 0])"
   ]
  },
  {
   "cell_type": "code",
   "execution_count": 74,
   "metadata": {},
   "outputs": [
    {
     "data": {
      "text/plain": [
       "array(['explanation', 'edits', 'username', ..., 'sampi', 'ragan', 'garan'],\n",
       "      dtype='<U173')"
      ]
     },
     "execution_count": 74,
     "metadata": {},
     "output_type": "execute_result"
    }
   ],
   "source": [
    "new_vocabulary = np.array(cleaned_vocab)[np.where(to_filter != 0)]\n",
    "new_vocabulary"
   ]
  },
  {
   "cell_type": "code",
   "execution_count": 75,
   "metadata": {},
   "outputs": [],
   "source": [
    "X_train_u, X_test_u, Y_train_u, Y_test_u = train_test_split(\n",
    "    X, Y, test_size = custom_test_size\n",
    ")\n",
    "\n",
    "X_train_u = X_train_u.reset_index(drop = True)\n",
    "X_test_u = X_test_u.reset_index(drop = True)\n",
    "\n",
    "Y_train_u = Y_train_u.reset_index(drop = True)\n",
    "Y_test_u = Y_test_u.reset_index(drop = True)"
   ]
  },
  {
   "cell_type": "code",
   "execution_count": 76,
   "metadata": {},
   "outputs": [],
   "source": [
    "X_train_concat_u =  X_train_u.str.join(' ')\n",
    "X_test_concat_u = X_test_u.str.join(' ')\n",
    "\n",
    "X_train_tf_idf_sparse_upd = pipeline_global.fit_transform(X_train_concat_u)\n",
    "X_test_tf_idf_sparse_upd = pipeline_global.transform(X_test_concat_u)"
   ]
  },
  {
   "cell_type": "code",
   "execution_count": 77,
   "metadata": {},
   "outputs": [],
   "source": [
    "linear_classifier.fit(X_train_tf_idf_sparse_upd, Y_train_u)\n",
    "\n",
    "Y_prediction_upd = linear_classifier.predict(X_test_tf_idf_sparse)"
   ]
  },
  {
   "cell_type": "code",
   "execution_count": 78,
   "metadata": {},
   "outputs": [
    {
     "data": {
      "text/plain": [
       "array([[35750,    39],\n",
       "       [  947,  1070]], dtype=int64)"
      ]
     },
     "execution_count": 78,
     "metadata": {},
     "output_type": "execute_result"
    }
   ],
   "source": [
    "conf = confusion_matrix(Y_test, Y_prediction_upd)\n",
    "conf"
   ]
  },
  {
   "cell_type": "code",
   "execution_count": 79,
   "metadata": {},
   "outputs": [
    {
     "data": {
      "text/plain": [
       "0.9208591228905465"
      ]
     },
     "execution_count": 79,
     "metadata": {},
     "output_type": "execute_result"
    }
   ],
   "source": [
    "A1 = accuracy_score(Y_test_u, Y_prediction_upd)\n",
    "A1"
   ]
  },
  {
   "cell_type": "code",
   "execution_count": 80,
   "metadata": {},
   "outputs": [
    {
     "name": "stdout",
     "output_type": "stream",
     "text": [
      "              precision    recall  f1-score   support\n",
      "\n",
      "           0       0.95      0.97      0.96     35775\n",
      "           1       0.07      0.04      0.05      2031\n",
      "\n",
      "    accuracy                           0.92     37806\n",
      "   macro avg       0.51      0.50      0.50     37806\n",
      "weighted avg       0.90      0.92      0.91     37806\n",
      "\n"
     ]
    }
   ],
   "source": [
    "print(classification_report(Y_test_u, Y_prediction_upd))"
   ]
  },
  {
   "cell_type": "code",
   "execution_count": 81,
   "metadata": {},
   "outputs": [
    {
     "data": {
      "text/plain": [
       "False"
      ]
     },
     "execution_count": 81,
     "metadata": {},
     "output_type": "execute_result"
    }
   ],
   "source": [
    "A1 > A0 # See, because of sparsity. More details below"
   ]
  },
  {
   "cell_type": "code",
   "execution_count": 82,
   "metadata": {},
   "outputs": [
    {
     "data": {
      "text/plain": [
       "['logistic_cls.joblib']"
      ]
     },
     "execution_count": 82,
     "metadata": {},
     "output_type": "execute_result"
    }
   ],
   "source": [
    "dump(linear_classifier, 'logistic_cls.joblib')"
   ]
  },
  {
   "cell_type": "markdown",
   "metadata": {},
   "source": [
    "Висновки:"
   ]
  },
  {
   "cell_type": "markdown",
   "metadata": {},
   "source": [
    "### Additionally, visualisations "
   ]
  },
  {
   "cell_type": "markdown",
   "metadata": {},
   "source": [
    "For now you have a vector for each word from your vocabulary. \n",
    "You have vectors with lenght > 18000, so the dimension of your space is more than 18000 - it's impossible to visualise it in 2d space. \n",
    "\n",
    "So try to research and look for algorithms which perform dimensionality reduction. (t-SNE, PCA) \n",
    "Try to visualise obtained vectors in a vectorspace, only subset from the vocabulary, don't plot all of the words. (100) \n",
    "\n",
    "Probably on this step you will realise how this type of vectorization using these techniques is not the best way to vectorize words. \n",
    "\n",
    "Please, analyse the obtained results and explain why visualisation looks like this. "
   ]
  },
  {
   "cell_type": "code",
   "execution_count": 83,
   "metadata": {},
   "outputs": [],
   "source": [
    "import matplotlib.pyplot as plt\n",
    "import seaborn as sns\n",
    "\n",
    "# Here we'll be using princomp method to make visualizations possible\n",
    "# .. later, because having troubles with memory. Now using alternative for sparse matrices\n",
    "\n",
    "# https://en.wikipedia.org/wiki/Singular_value_decomposition\n",
    "# https://arxiv.org/pdf/0909.4061.pdf\n",
    "\n",
    "from sklearn.decomposition import PCA\n",
    "from sklearn.decomposition import TruncatedSVD"
   ]
  },
  {
   "cell_type": "code",
   "execution_count": 84,
   "metadata": {},
   "outputs": [],
   "source": [
    "hot_vectors = np.array(list(vocabulary.values()))\n",
    "\n",
    "pca_model = PCA(n_components = 3)\n",
    "pca_model.fit(hot_vectors)\n",
    "\n",
    "hot_vectors_transformed = pca_model.transform(hot_vectors)"
   ]
  },
  {
   "cell_type": "code",
   "execution_count": 85,
   "metadata": {},
   "outputs": [
    {
     "data": {
      "text/plain": [
       "array([[ 0.00449514,  0.00147907, -0.00231623],\n",
       "       [-0.01097161,  0.00910625, -0.00225918],\n",
       "       [ 0.0036195 ,  0.01051343, -0.00241614],\n",
       "       ...,\n",
       "       [-0.01475087,  0.01353305, -0.01540202],\n",
       "       [-0.01095983, -0.00299842,  0.0138551 ],\n",
       "       [-0.00354779, -0.00118592,  0.00212425]])"
      ]
     },
     "execution_count": 85,
     "metadata": {},
     "output_type": "execute_result"
    }
   ],
   "source": [
    "hot_vectors_transformed"
   ]
  },
  {
   "cell_type": "code",
   "execution_count": 86,
   "metadata": {},
   "outputs": [
    {
     "data": {
      "text/plain": [
       "<Figure size 864x864 with 0 Axes>"
      ]
     },
     "metadata": {},
     "output_type": "display_data"
    },
    {
     "data": {
      "image/png": "[encoded data removed]",
      "text/plain": [
       "<Figure size 864x864 with 1 Axes>"
      ]
     },
     "metadata": {
      "needs_background": "light"
     },
     "output_type": "display_data"
    },
    {
     "data": {
      "image/png": "[encoded data removed]",
      "text/plain": [
       "<Figure size 864x864 with 1 Axes>"
      ]
     },
     "metadata": {
      "needs_background": "light"
     },
     "output_type": "display_data"
    }
   ],
   "source": [
    "plt.figure(figsize = (12, 12))\n",
    "\n",
    "def fast_scatter(\n",
    "    data,\n",
    "    N:     int = 100,\n",
    "    i:     int = 0,\n",
    "    j:     int = 0,\n",
    "    fsize: tuple = (12, 12),\n",
    "    s:     int = 16,\n",
    "    col:   str = \"red\"):\n",
    "    plt.figure(figsize = fsize)\n",
    "    sns.scatterplot(\n",
    "        x = hot_vectors_transformed[:500, i],\n",
    "        y = hot_vectors_transformed[:500, j],\n",
    "        s = 16,\n",
    "        color = \"red\"\n",
    "    )\n",
    "\n",
    "# actually pretty similar for other pairs\n",
    "fast_scatter(hot_vectors_transformed, 500, 1, 2)\n",
    "fast_scatter(hot_vectors_transformed, 500, 0, 2)"
   ]
  },
  {
   "cell_type": "code",
   "execution_count": 367,
   "metadata": {},
   "outputs": [],
   "source": [
    "trunc_svd_model = TruncatedSVD(n_components = 8)"
   ]
  },
  {
   "cell_type": "code",
   "execution_count": 368,
   "metadata": {},
   "outputs": [],
   "source": [
    "t_non = df_non_toxic.cleaned.str.join(' ')\n",
    "t_ins = df_insulting.cleaned.str.join(' ')\n",
    "\n",
    "pipeline_cleaned = Pipeline(\n",
    "    [\n",
    "        ('cnt-matr', CountVectorizer(vocabulary = cleaned_vocab)),\n",
    "        ('tf-idf-sparse-matr', TfidfTransformer())\n",
    "    ]\n",
    ")\n",
    "\n",
    "pipeline_n = pipeline_cleaned.fit(t_non)\n",
    "pipeline_i = pipeline_cleaned.fit(t_ins)\n",
    "\n",
    "non_toxic_edited = pipeline_n.transform(t_non)\n",
    "insulting_edited = pipeline_i.transform(t_ins)"
   ]
  },
  {
   "cell_type": "code",
   "execution_count": 369,
   "metadata": {},
   "outputs": [
    {
     "name": "stdout",
     "output_type": "stream",
     "text": [
      "[0.00813263 0.00891359 0.00707804 0.00608953 0.0052548  0.00537576\n",
      " 0.00448897 0.00452572]\n",
      "[0.01492335 0.01658187 0.01241669 0.01202173 0.00863563 0.00856899\n",
      " 0.00698055 0.00609129]\n"
     ]
    }
   ],
   "source": [
    "final_n = trunc_svd_model.fit_transform(non_toxic_edited)\n",
    "\n",
    "print(\n",
    "    trunc_svd_model.explained_variance_ratio_\n",
    ")\n",
    "\n",
    "final_i = trunc_svd_model.fit_transform(insulting_edited)\n",
    "\n",
    "print(\n",
    "    trunc_svd_model.explained_variance_ratio_\n",
    ")"
   ]
  },
  {
   "cell_type": "code",
   "execution_count": 370,
   "metadata": {},
   "outputs": [],
   "source": [
    "lim_n = 500\n",
    "\n",
    "n, m = 4, 6\n",
    "\n",
    "transformed_non_toxic = pd.DataFrame(final_n[:lim_n, (n,m)], columns = ['X', 'Y'])\n",
    "transformed_insulting = pd.DataFrame(final_i[:lim_n, (n,m)], columns = ['X', 'Y'])"
   ]
  },
  {
   "cell_type": "code",
   "execution_count": 371,
   "metadata": {},
   "outputs": [
    {
     "data": {
      "text/plain": [
       "<matplotlib.axes._subplots.AxesSubplot at 0x1e1250259c8>"
      ]
     },
     "execution_count": 371,
     "metadata": {},
     "output_type": "execute_result"
    },
    {
     "data": {
      "image/png": "[encoded data removed]",
      "text/plain": [
       "<Figure size 864x864 with 1 Axes>"
      ]
     },
     "metadata": {
      "needs_background": "light"
     },
     "output_type": "display_data"
    }
   ],
   "source": [
    "plt.figure(figsize = (12, 12))\n",
    "\n",
    "sns.scatterplot(\n",
    "    x = 'X',\n",
    "    y = 'Y',\n",
    "    data = pd.concat([transformed_non_toxic.assign(set_type='non-toxic'), transformed_insulting.assign(set_type='insulting')]),\n",
    "    s = 12, hue = 'set_type'\n",
    ")"
   ]
  },
  {
   "cell_type": "code",
   "execution_count": 344,
   "metadata": {},
   "outputs": [],
   "source": [
    "# TODO:\n",
    "# tf-idf manually"
   ]
  }
 ],
 "metadata": {
  "kernelspec": {
   "display_name": "Python 3",
   "language": "python",
   "name": "python3"
  },
  "language_info": {
   "codemirror_mode": {
    "name": "ipython",
    "version": 3
   },
   "file_extension": ".py",
   "mimetype": "text/x-python",
   "name": "python",
   "nbconvert_exporter": "python",
   "pygments_lexer": "ipython3",
   "version": "3.7.4"
  }
 },
 "nbformat": 4,
 "nbformat_minor": 2
}
