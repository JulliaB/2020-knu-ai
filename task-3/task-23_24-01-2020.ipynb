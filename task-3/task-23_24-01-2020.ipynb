{
  "nbformat": 4,
  "nbformat_minor": 0,
  "metadata": {
    "colab": {
      "name": "task_23_24_01_2020.ipynb",
      "provenance": [],
      "collapsed_sections": [],
      "machine_shape": "hm"
    },
    "kernelspec": {
      "display_name": "Python 3",
      "language": "python",
      "name": "python3"
    },
    "language_info": {
      "codemirror_mode": {
        "name": "ipython",
        "version": 3
      },
      "file_extension": ".py",
      "mimetype": "text/x-python",
      "name": "python",
      "nbconvert_exporter": "python",
      "pygments_lexer": "ipython3",
      "version": "3.7.4"
    }
  },
  "cells": [
    {
      "cell_type": "markdown",
      "metadata": {
        "colab_type": "text",
        "id": "Xy72ebulM2z_"
      },
      "source": [
        "## Prerequisites\n",
        "\n"
      ]
    },
    {
      "cell_type": "code",
      "metadata": {
        "colab_type": "code",
        "id": "UcY8eEJ5M20B",
        "colab": {}
      },
      "source": [
        "import pandas as pd \n",
        "import numpy as np \n",
        "from sklearn.linear_model import LogisticRegression\n",
        "from sklearn.neighbors import KNeighborsClassifier\n",
        "from sklearn.ensemble import RandomForestClassifier\n",
        "from sklearn.svm import SVC\n",
        "from sklearn.naive_bayes import GaussianNB"
      ],
      "execution_count": 0,
      "outputs": []
    },
    {
      "cell_type": "markdown",
      "metadata": {
        "colab_type": "text",
        "id": "-PQJ6A9xM20D"
      },
      "source": [
        "### Note! Some of these models support only multiclass classification, please, while selecting your dataset,  \n",
        "### be sure that for algorithms which does not support multilabel classification you use only examples with only one label. \n",
        "### Examples without a label in any of the provided categories are clean messages, without any toxicity."
      ]
    },
    {
      "cell_type": "code",
      "metadata": {
        "colab_type": "code",
        "id": "cfu4rmXyM20D",
        "colab": {
          "base_uri": "https://localhost:8080/",
          "height": 34
        },
        "outputId": "9bec64e3-a29d-493e-e130-191766b5ad1a"
      },
      "source": [
        "from google.colab import drive\n",
        "drive.mount('/content/drive')\n",
        "df = pd.read_csv(\"/content/drive/My Drive/train.csv\")"
      ],
      "execution_count": 2,
      "outputs": [
        {
          "output_type": "stream",
          "text": [
            "Drive already mounted at /content/drive; to attempt to forcibly remount, call drive.mount(\"/content/drive\", force_remount=True).\n"
          ],
          "name": "stdout"
        }
      ]
    },
    {
      "cell_type": "code",
      "metadata": {
        "colab_type": "code",
        "id": "0y3CNxueM20F",
        "outputId": "5d039d68-67a7-4e16-e9ea-084bfce0d427",
        "colab": {
          "base_uri": "https://localhost:8080/",
          "height": 204
        }
      },
      "source": [
        "df.head()"
      ],
      "execution_count": 3,
      "outputs": [
        {
          "output_type": "execute_result",
          "data": {
            "text/html": [
              "<div>\n",
              "<style scoped>\n",
              "    .dataframe tbody tr th:only-of-type {\n",
              "        vertical-align: middle;\n",
              "    }\n",
              "\n",
              "    .dataframe tbody tr th {\n",
              "        vertical-align: top;\n",
              "    }\n",
              "\n",
              "    .dataframe thead th {\n",
              "        text-align: right;\n",
              "    }\n",
              "</style>\n",
              "<table border=\"1\" class=\"dataframe\">\n",
              "  <thead>\n",
              "    <tr style=\"text-align: right;\">\n",
              "      <th></th>\n",
              "      <th>id</th>\n",
              "      <th>comment_text</th>\n",
              "      <th>toxic</th>\n",
              "      <th>severe_toxic</th>\n",
              "      <th>obscene</th>\n",
              "      <th>threat</th>\n",
              "      <th>insult</th>\n",
              "      <th>identity_hate</th>\n",
              "    </tr>\n",
              "  </thead>\n",
              "  <tbody>\n",
              "    <tr>\n",
              "      <th>0</th>\n",
              "      <td>0000997932d777bf</td>\n",
              "      <td>Explanation\\nWhy the edits made under my usern...</td>\n",
              "      <td>0</td>\n",
              "      <td>0</td>\n",
              "      <td>0</td>\n",
              "      <td>0</td>\n",
              "      <td>0</td>\n",
              "      <td>0</td>\n",
              "    </tr>\n",
              "    <tr>\n",
              "      <th>1</th>\n",
              "      <td>000103f0d9cfb60f</td>\n",
              "      <td>D'aww! He matches this background colour I'm s...</td>\n",
              "      <td>0</td>\n",
              "      <td>0</td>\n",
              "      <td>0</td>\n",
              "      <td>0</td>\n",
              "      <td>0</td>\n",
              "      <td>0</td>\n",
              "    </tr>\n",
              "    <tr>\n",
              "      <th>2</th>\n",
              "      <td>000113f07ec002fd</td>\n",
              "      <td>Hey man, I'm really not trying to edit war. It...</td>\n",
              "      <td>0</td>\n",
              "      <td>0</td>\n",
              "      <td>0</td>\n",
              "      <td>0</td>\n",
              "      <td>0</td>\n",
              "      <td>0</td>\n",
              "    </tr>\n",
              "    <tr>\n",
              "      <th>3</th>\n",
              "      <td>0001b41b1c6bb37e</td>\n",
              "      <td>\"\\nMore\\nI can't make any real suggestions on ...</td>\n",
              "      <td>0</td>\n",
              "      <td>0</td>\n",
              "      <td>0</td>\n",
              "      <td>0</td>\n",
              "      <td>0</td>\n",
              "      <td>0</td>\n",
              "    </tr>\n",
              "    <tr>\n",
              "      <th>4</th>\n",
              "      <td>0001d958c54c6e35</td>\n",
              "      <td>You, sir, are my hero. Any chance you remember...</td>\n",
              "      <td>0</td>\n",
              "      <td>0</td>\n",
              "      <td>0</td>\n",
              "      <td>0</td>\n",
              "      <td>0</td>\n",
              "      <td>0</td>\n",
              "    </tr>\n",
              "  </tbody>\n",
              "</table>\n",
              "</div>"
            ],
            "text/plain": [
              "                 id  ... identity_hate\n",
              "0  0000997932d777bf  ...             0\n",
              "1  000103f0d9cfb60f  ...             0\n",
              "2  000113f07ec002fd  ...             0\n",
              "3  0001b41b1c6bb37e  ...             0\n",
              "4  0001d958c54c6e35  ...             0\n",
              "\n",
              "[5 rows x 8 columns]"
            ]
          },
          "metadata": {
            "tags": []
          },
          "execution_count": 3
        }
      ]
    },
    {
      "cell_type": "code",
      "metadata": {
        "colab_type": "code",
        "id": "-g2AIiEgM20H",
        "outputId": "ebef27b9-2747-4add-c12f-55a707f37c03",
        "colab": {
          "base_uri": "https://localhost:8080/",
          "height": 34
        }
      },
      "source": [
        "df.shape"
      ],
      "execution_count": 4,
      "outputs": [
        {
          "output_type": "execute_result",
          "data": {
            "text/plain": [
              "(159571, 8)"
            ]
          },
          "metadata": {
            "tags": []
          },
          "execution_count": 4
        }
      ]
    },
    {
      "cell_type": "markdown",
      "metadata": {
        "colab_type": "text",
        "id": "m8HGz0dzM20I"
      },
      "source": [
        "### As one of the methods to make the training simpier, use only examples, assigned to any category vs clean examples.  \n",
        "For example:  \n",
        "- Select only messages with obscene label == 1  \n",
        "- Select all of the \"clean\" messages  \n",
        "Implement a model which can perform a binary classification  - to understand whether your message is obscene or not.   "
      ]
    },
    {
      "cell_type": "markdown",
      "metadata": {
        "colab_type": "text",
        "id": "uicgL53-M20J"
      },
      "source": [
        "##### If you want to perform a multilabel classification, please understand the difference between multilabel and multiclass classification and be sure that you are solving the correct task - choose only algorithms applicable for solving this type of problem."
      ]
    },
    {
      "cell_type": "markdown",
      "metadata": {
        "colab_type": "text",
        "id": "xRklpY38M20J"
      },
      "source": [
        "#### To work with multiclass task:  \n",
        "You only need to select messages which have only one label assigned: message cannot be assigned to 2 or more categories.  \n",
        "\n",
        "#### To work with multilabel task: \n",
        "You can work with the whole dataset - some of your messages have only 1 label, some more than 1. "
      ]
    },
    {
      "cell_type": "markdown",
      "metadata": {
        "colab_type": "text",
        "id": "2f2l75GoM20K"
      },
      "source": [
        "## Text vectorization"
      ]
    },
    {
      "cell_type": "markdown",
      "metadata": {
        "colab_type": "text",
        "id": "HQ7Tqi7tM20K"
      },
      "source": [
        "Previously we worked only with words vectorization. But we need to have a vector for each text, not only words from it. \n",
        "\n",
        "Before starting a text vectorization, please, make sure you are working with clean data - use the dataset created on the previous day. Cleaned from punctuation, stop words, lemmatized or stemmed, etc. "
      ]
    },
    {
      "cell_type": "code",
      "metadata": {
        "colab_type": "code",
        "id": "_TDHzih1UWlj",
        "outputId": "74073314-194b-4d03-ba5f-117232f4df10",
        "colab": {
          "base_uri": "https://localhost:8080/",
          "height": 136
        }
      },
      "source": [
        "import nltk\n",
        "nltk.download('stopwords')\n",
        "nltk.download('punkt')\n",
        "nltk.download('wordnet')"
      ],
      "execution_count": 5,
      "outputs": [
        {
          "output_type": "stream",
          "text": [
            "[nltk_data] Downloading package stopwords to /root/nltk_data...\n",
            "[nltk_data]   Package stopwords is already up-to-date!\n",
            "[nltk_data] Downloading package punkt to /root/nltk_data...\n",
            "[nltk_data]   Package punkt is already up-to-date!\n",
            "[nltk_data] Downloading package wordnet to /root/nltk_data...\n",
            "[nltk_data]   Package wordnet is already up-to-date!\n"
          ],
          "name": "stdout"
        },
        {
          "output_type": "execute_result",
          "data": {
            "text/plain": [
              "True"
            ]
          },
          "metadata": {
            "tags": []
          },
          "execution_count": 5
        }
      ]
    },
    {
      "cell_type": "code",
      "metadata": {
        "colab_type": "code",
        "id": "DU4dKJPnM20L",
        "colab": {}
      },
      "source": [
        "from string import punctuation\n",
        "\n",
        "from nltk.tokenize import word_tokenize\n",
        "from nltk.corpus import stopwords\n",
        "from nltk.stem import WordNetLemmatizer \n",
        "  \n",
        "lemmatizer = WordNetLemmatizer() \n",
        "stop_words = set(stopwords.words('english'))"
      ],
      "execution_count": 0,
      "outputs": []
    },
    {
      "cell_type": "code",
      "metadata": {
        "colab_type": "code",
        "id": "cRc_4hl5M20M",
        "colab": {}
      },
      "source": [
        "def preprocess_text(tokenizer, lemmatizer, stop_words, punctuation, text): \n",
        "    tokens = tokenizer(text.lower())\n",
        "    lemmas = [lemmatizer.lemmatize(token) for token in tokens]\n",
        "    return [token for token in lemmas if token not in stop_words and token not in punctuation]\n",
        "\n",
        "df['cleaned'] = df.comment_text.apply(lambda x: preprocess_text(word_tokenize, lemmatizer, stop_words, punctuation, x))"
      ],
      "execution_count": 0,
      "outputs": []
    },
    {
      "cell_type": "code",
      "metadata": {
        "colab_type": "code",
        "id": "u4aSDQ6nM20N",
        "colab": {
          "base_uri": "https://localhost:8080/",
          "height": 204
        },
        "outputId": "544ed062-791f-4c94-bb0d-e8d8dade5abf"
      },
      "source": [
        "df.head()"
      ],
      "execution_count": 8,
      "outputs": [
        {
          "output_type": "execute_result",
          "data": {
            "text/html": [
              "<div>\n",
              "<style scoped>\n",
              "    .dataframe tbody tr th:only-of-type {\n",
              "        vertical-align: middle;\n",
              "    }\n",
              "\n",
              "    .dataframe tbody tr th {\n",
              "        vertical-align: top;\n",
              "    }\n",
              "\n",
              "    .dataframe thead th {\n",
              "        text-align: right;\n",
              "    }\n",
              "</style>\n",
              "<table border=\"1\" class=\"dataframe\">\n",
              "  <thead>\n",
              "    <tr style=\"text-align: right;\">\n",
              "      <th></th>\n",
              "      <th>id</th>\n",
              "      <th>comment_text</th>\n",
              "      <th>toxic</th>\n",
              "      <th>severe_toxic</th>\n",
              "      <th>obscene</th>\n",
              "      <th>threat</th>\n",
              "      <th>insult</th>\n",
              "      <th>identity_hate</th>\n",
              "      <th>cleaned</th>\n",
              "    </tr>\n",
              "  </thead>\n",
              "  <tbody>\n",
              "    <tr>\n",
              "      <th>0</th>\n",
              "      <td>0000997932d777bf</td>\n",
              "      <td>Explanation\\nWhy the edits made under my usern...</td>\n",
              "      <td>0</td>\n",
              "      <td>0</td>\n",
              "      <td>0</td>\n",
              "      <td>0</td>\n",
              "      <td>0</td>\n",
              "      <td>0</td>\n",
              "      <td>[explanation, edits, made, username, hardcore,...</td>\n",
              "    </tr>\n",
              "    <tr>\n",
              "      <th>1</th>\n",
              "      <td>000103f0d9cfb60f</td>\n",
              "      <td>D'aww! He matches this background colour I'm s...</td>\n",
              "      <td>0</td>\n",
              "      <td>0</td>\n",
              "      <td>0</td>\n",
              "      <td>0</td>\n",
              "      <td>0</td>\n",
              "      <td>0</td>\n",
              "      <td>[d'aww, match, background, colour, 'm, seeming...</td>\n",
              "    </tr>\n",
              "    <tr>\n",
              "      <th>2</th>\n",
              "      <td>000113f07ec002fd</td>\n",
              "      <td>Hey man, I'm really not trying to edit war. It...</td>\n",
              "      <td>0</td>\n",
              "      <td>0</td>\n",
              "      <td>0</td>\n",
              "      <td>0</td>\n",
              "      <td>0</td>\n",
              "      <td>0</td>\n",
              "      <td>[hey, man, 'm, really, trying, edit, war, 's, ...</td>\n",
              "    </tr>\n",
              "    <tr>\n",
              "      <th>3</th>\n",
              "      <td>0001b41b1c6bb37e</td>\n",
              "      <td>\"\\nMore\\nI can't make any real suggestions on ...</td>\n",
              "      <td>0</td>\n",
              "      <td>0</td>\n",
              "      <td>0</td>\n",
              "      <td>0</td>\n",
              "      <td>0</td>\n",
              "      <td>0</td>\n",
              "      <td>[``, ca, n't, make, real, suggestion, improvem...</td>\n",
              "    </tr>\n",
              "    <tr>\n",
              "      <th>4</th>\n",
              "      <td>0001d958c54c6e35</td>\n",
              "      <td>You, sir, are my hero. Any chance you remember...</td>\n",
              "      <td>0</td>\n",
              "      <td>0</td>\n",
              "      <td>0</td>\n",
              "      <td>0</td>\n",
              "      <td>0</td>\n",
              "      <td>0</td>\n",
              "      <td>[sir, hero, chance, remember, page, 's]</td>\n",
              "    </tr>\n",
              "  </tbody>\n",
              "</table>\n",
              "</div>"
            ],
            "text/plain": [
              "                 id  ...                                            cleaned\n",
              "0  0000997932d777bf  ...  [explanation, edits, made, username, hardcore,...\n",
              "1  000103f0d9cfb60f  ...  [d'aww, match, background, colour, 'm, seeming...\n",
              "2  000113f07ec002fd  ...  [hey, man, 'm, really, trying, edit, war, 's, ...\n",
              "3  0001b41b1c6bb37e  ...  [``, ca, n't, make, real, suggestion, improvem...\n",
              "4  0001d958c54c6e35  ...            [sir, hero, chance, remember, page, 's]\n",
              "\n",
              "[5 rows x 9 columns]"
            ]
          },
          "metadata": {
            "tags": []
          },
          "execution_count": 8
        }
      ]
    },
    {
      "cell_type": "code",
      "metadata": {
        "colab_type": "code",
        "id": "-qgnr8FaM20P",
        "colab": {}
      },
      "source": [
        "def flat_nested(nested):\n",
        "    flatten = []\n",
        "    for item in nested:\n",
        "        if isinstance(item, list):\n",
        "            flatten.extend(item)\n",
        "        else:\n",
        "            flatten.append(item)\n",
        "    return flatten"
      ],
      "execution_count": 0,
      "outputs": []
    },
    {
      "cell_type": "code",
      "metadata": {
        "colab_type": "code",
        "id": "7ldLEaBrM20Q",
        "colab": {}
      },
      "source": [
        "vocab = set(flat_nested(df.cleaned.tolist()))"
      ],
      "execution_count": 0,
      "outputs": []
    },
    {
      "cell_type": "code",
      "metadata": {
        "colab_type": "code",
        "id": "47QV8vyMM20S",
        "colab": {
          "base_uri": "https://localhost:8080/",
          "height": 34
        },
        "outputId": "044d71ed-bb03-4c66-a9fc-fd7fce77e0be"
      },
      "source": [
        "len(vocab)"
      ],
      "execution_count": 11,
      "outputs": [
        {
          "output_type": "execute_result",
          "data": {
            "text/plain": [
              "249736"
            ]
          },
          "metadata": {
            "tags": []
          },
          "execution_count": 11
        }
      ]
    },
    {
      "cell_type": "markdown",
      "metadata": {
        "colab_type": "text",
        "id": "rE0JNhqrM20T"
      },
      "source": [
        "As we see, probably you vocabulary is too large.  \n",
        "Let's try to make it smaller.  \n",
        "For example, let's get rig of words, which has counts in our dataset less than some threshold."
      ]
    },
    {
      "cell_type": "code",
      "metadata": {
        "colab_type": "code",
        "id": "zN7l_f0MM20U",
        "colab": {}
      },
      "source": [
        "from collections import Counter, defaultdict \n",
        "\n",
        "cnt_vocab = Counter(flat_nested(df.cleaned.tolist()))"
      ],
      "execution_count": 0,
      "outputs": []
    },
    {
      "cell_type": "code",
      "metadata": {
        "colab_type": "code",
        "id": "EuKrjvGvM20V",
        "colab": {
          "base_uri": "https://localhost:8080/",
          "height": 187
        },
        "outputId": "47c003f7-25bb-4f98-942f-c3e6d0a9b6e7"
      },
      "source": [
        "cnt_vocab.most_common(10)"
      ],
      "execution_count": 13,
      "outputs": [
        {
          "output_type": "execute_result",
          "data": {
            "text/plain": [
              "[(\"''\", 242528),\n",
              " ('``', 155370),\n",
              " ('article', 73284),\n",
              " (\"'s\", 66767),\n",
              " (\"n't\", 57144),\n",
              " ('wa', 56592),\n",
              " ('page', 56263),\n",
              " ('wikipedia', 45418),\n",
              " ('talk', 35356),\n",
              " ('ha', 31896)]"
            ]
          },
          "metadata": {
            "tags": []
          },
          "execution_count": 13
        }
      ]
    },
    {
      "cell_type": "markdown",
      "metadata": {
        "colab_type": "text",
        "id": "cSGYydr1M20X"
      },
      "source": [
        "You can clean words which are shorter that particular length and occur less than N times. "
      ]
    },
    {
      "cell_type": "code",
      "metadata": {
        "colab_type": "code",
        "id": "4KrxCJi8M20X",
        "colab": {}
      },
      "source": [
        "threshold_count = 10\n",
        "threshold_len = 4 \n",
        "cleaned_vocab = [token for token, count in cnt_vocab.items() if count > threshold_count and len(token) > threshold_len]"
      ],
      "execution_count": 0,
      "outputs": []
    },
    {
      "cell_type": "code",
      "metadata": {
        "colab_type": "code",
        "id": "lL2-zzZ6M20Z",
        "colab": {
          "base_uri": "https://localhost:8080/",
          "height": 34
        },
        "outputId": "2cc97b18-d427-4f03-afcf-4b0757408ace"
      },
      "source": [
        "len(cleaned_vocab)"
      ],
      "execution_count": 15,
      "outputs": [
        {
          "output_type": "execute_result",
          "data": {
            "text/plain": [
              "18696"
            ]
          },
          "metadata": {
            "tags": []
          },
          "execution_count": 15
        }
      ]
    },
    {
      "cell_type": "markdown",
      "metadata": {
        "colab_type": "text",
        "id": "P2xK4lk7M20a"
      },
      "source": [
        "\n",
        "\n",
        "Much better!  \n",
        "Let's try to vectorize the text summing one-hot vectors for each word. "
      ]
    },
    {
      "cell_type": "code",
      "metadata": {
        "colab_type": "code",
        "id": "IaZiYz8CM20a",
        "colab": {}
      },
      "source": [
        "vocabulary = defaultdict()\n",
        "\n",
        "for i, token in enumerate(cleaned_vocab): \n",
        "    empty_vec = np.zeros(len(cleaned_vocab))\n",
        "    empty_vec[i] = 1 \n",
        "    vocabulary[token] = empty_vec"
      ],
      "execution_count": 0,
      "outputs": []
    },
    {
      "cell_type": "code",
      "metadata": {
        "colab_type": "code",
        "id": "DMYe1uR-M20c",
        "colab": {
          "base_uri": "https://localhost:8080/",
          "height": 34
        },
        "outputId": "4467c561-dc3e-4fd4-c1d9-6558a8073682"
      },
      "source": [
        "vocabulary['source']"
      ],
      "execution_count": 17,
      "outputs": [
        {
          "output_type": "execute_result",
          "data": {
            "text/plain": [
              "array([0., 0., 0., ..., 0., 0., 0.])"
            ]
          },
          "metadata": {
            "tags": []
          },
          "execution_count": 17
        }
      ]
    },
    {
      "cell_type": "markdown",
      "metadata": {
        "colab_type": "text",
        "id": "ShqmwL54M20d"
      },
      "source": [
        "\n",
        "Rigth now we have vectors for words (words are one-hot vectorized)  \n",
        "Let's try to create vectors for texts: "
      ]
    },
    {
      "cell_type": "code",
      "metadata": {
        "colab_type": "code",
        "id": "OMvV1Y5oM20f",
        "colab": {
          "base_uri": "https://localhost:8080/",
          "height": 54
        },
        "outputId": "505d9fc3-541c-4c1b-b52f-6846022f74fd"
      },
      "source": [
        "sample_text = df.cleaned[10]\n",
        "print(sample_text)"
      ],
      "execution_count": 18,
      "outputs": [
        {
          "output_type": "stream",
          "text": [
            "['``', 'fair', 'use', 'rationale', 'image', 'wonju.jpg', 'thanks', 'uploading', 'image', 'wonju.jpg', 'notice', 'image', 'page', 'specifies', 'image', 'used', 'fair', 'use', 'explanation', 'rationale', 'use', 'wikipedia', 'article', 'constitutes', 'fair', 'use', 'addition', 'boilerplate', 'fair', 'use', 'template', 'must', 'also', 'write', 'image', 'description', 'page', 'specific', 'explanation', 'rationale', 'using', 'image', 'article', 'consistent', 'fair', 'use', 'please', 'go', 'image', 'description', 'page', 'edit', 'include', 'fair', 'use', 'rationale', 'uploaded', 'fair', 'use', 'medium', 'consider', 'checking', 'specified', 'fair', 'use', 'rationale', 'page', 'find', 'list', \"'image\", 'page', 'edited', 'clicking', '``', \"''\", 'contribution', \"''\", \"''\", 'link', 'located', 'top', 'wikipedia', 'page', 'logged', 'selecting', '``', \"''\", 'image', \"''\", \"''\", 'dropdown', 'box', 'note', 'fair', 'use', 'image', 'uploaded', '4', 'may', '2006', 'lacking', 'explanation', 'deleted', 'one', 'week', 'uploaded', 'described', 'criterion', 'speedy', 'deletion', 'question', 'please', 'ask', 'medium', 'copyright', 'question', 'page', 'thank', 'talk', '•', 'contribs', '•', 'unspecified', 'source', 'image', 'wonju.jpg', 'thanks', 'uploading', 'image', 'wonju.jpg', 'noticed', 'file', \"'s\", 'description', 'page', 'currently', 'doe', \"n't\", 'specify', 'created', 'content', 'copyright', 'status', 'unclear', 'create', 'file', 'need', 'specify', 'owner', 'copyright', 'obtained', 'website', 'link', 'website', 'wa', 'taken', 'together', 'restatement', 'website', \"'s\", 'term', 'use', 'content', 'usually', 'sufficient', 'information', 'however', 'copyright', 'holder', 'different', 'website', \"'s\", 'publisher', 'copyright', 'also', 'acknowledged', 'well', 'adding', 'source', 'please', 'add', 'proper', 'copyright', 'licensing', 'tag', 'file', 'doe', \"n't\", 'one', 'already', 'created/took', 'picture', 'audio', 'video', 'tag', 'used', 'release', 'gfdl', 'believe', 'medium', 'meet', 'criterion', 'wikipedia', 'fair', 'use', 'use', 'tag', 'one', 'tag', 'listed', 'wikipedia', 'image', 'copyright', 'tag', 'fair', 'use', 'see', 'wikipedia', 'image', 'copyright', 'tag', 'full', 'list', 'copyright', 'tag', 'use', 'uploaded', 'file', 'consider', 'checking', 'specified', 'source', 'tagged', 'find', 'list', 'file', 'uploaded', 'following', 'link', 'unsourced', 'untagged', 'image', 'may', 'deleted', 'one', 'week', 'tagged', 'described', 'criterion', 'speedy', 'deletion', 'image', 'copyrighted', 'non-free', 'license', 'per', 'wikipedia', 'fair', 'use', 'image', 'deleted', '48', 'hour', 'question', 'please', 'ask', 'medium', 'copyright', 'question', 'page', 'thank', 'talk', '•', 'contribs', '•', '``']\n"
          ],
          "name": "stdout"
        }
      ]
    },
    {
      "cell_type": "markdown",
      "metadata": {
        "colab_type": "text",
        "id": "g39cVitVM20i"
      },
      "source": [
        "### One-hot vectorization and count vectorization"
      ]
    },
    {
      "cell_type": "code",
      "metadata": {
        "colab_type": "code",
        "id": "GJuOiCZuM20i",
        "colab": {}
      },
      "source": [
        "sample_vector = np.zeros(len(cleaned_vocab))\n",
        "\n",
        "for token in sample_text: \n",
        "    try: \n",
        "        sample_vector += vocabulary[token]\n",
        "    except KeyError: \n",
        "        continue"
      ],
      "execution_count": 0,
      "outputs": []
    },
    {
      "cell_type": "code",
      "metadata": {
        "colab_type": "code",
        "id": "5yZFjVx7M20k",
        "colab": {
          "base_uri": "https://localhost:8080/",
          "height": 34
        },
        "outputId": "409a894f-ef77-4ff6-ff3d-05bb4d421047"
      },
      "source": [
        "sample_vector"
      ],
      "execution_count": 20,
      "outputs": [
        {
          "output_type": "execute_result",
          "data": {
            "text/plain": [
              "array([3., 0., 0., ..., 0., 0., 0.])"
            ]
          },
          "metadata": {
            "tags": []
          },
          "execution_count": 20
        }
      ]
    },
    {
      "cell_type": "markdown",
      "metadata": {
        "colab_type": "text",
        "id": "uKg83SFUM20l"
      },
      "source": [
        "Right now we have count vectorization for our text.   \n",
        "Use this pipeline to create vectors for all of the texts. Save them into np.array. i-th raw in np.array is a vector which represents i-th text from the dataframe.  "
      ]
    },
    {
      "cell_type": "code",
      "metadata": {
        "colab_type": "code",
        "id": "vhV8uNqSM20m",
        "colab": {}
      },
      "source": [
        "from scipy.sparse import lil_matrix\n",
        "\n",
        "def vectorize(text_list):\n",
        "    vec = np.zeros(len(cleaned_vocab))\n",
        "    for token in text_list: \n",
        "        try: \n",
        "            vec += vocabulary[token]\n",
        "        except KeyError: \n",
        "            continue\n",
        "    return vec   \n",
        "def cnt_vectorize(series):\n",
        "    vectorized_df = lil_matrix((series.size,len(cleaned_vocab)))  \n",
        "    for i in range(series.size):\n",
        "        vectorized_df[i] = vectorize(series.iloc[i])\n",
        "    return vectorized_df  \n",
        "#cnt_vectorized_df = cnt_vectorize(df.cleaned)"
      ],
      "execution_count": 0,
      "outputs": []
    },
    {
      "cell_type": "markdown",
      "metadata": {
        "colab_type": "text",
        "id": "h3LOB7h9M20n"
      },
      "source": [
        "### The next step is to train any classification model on top of the received vectors and report the quality. "
      ]
    },
    {
      "cell_type": "markdown",
      "metadata": {
        "colab_type": "text",
        "id": "FN9SQnoSM20n"
      },
      "source": [
        "Please, select any of the proposed pipelines for performing a text classification task. (Binary, multiclass or multilabel).  "
      ]
    },
    {
      "cell_type": "markdown",
      "metadata": {
        "colab_type": "text",
        "id": "aHqtuTz-M20o"
      },
      "source": [
        "The main task to calculate our models performance is to create a training and test sets. When you selected a texts for your task, please, use https://scikit-learn.org/stable/modules/generated/sklearn.model_selection.train_test_split.html to have at least two sets - train and test.  \n",
        "\n",
        "Train examples you will use to train your model on and test examples to evaluate your model - to understand how your model works on the unseen data. "
      ]
    },
    {
      "cell_type": "markdown",
      "metadata": {
        "colab_type": "text",
        "id": "vJoW_VFFM20o"
      },
      "source": [
        "### Train-test split "
      ]
    },
    {
      "cell_type": "code",
      "metadata": {
        "colab_type": "code",
        "id": "Eox7kzZAM20o",
        "colab": {}
      },
      "source": [
        "from sklearn.model_selection import train_test_split\n",
        "train, test = train_test_split(df, random_state=314, test_size=0.30)"
      ],
      "execution_count": 0,
      "outputs": []
    },
    {
      "cell_type": "markdown",
      "metadata": {
        "colab_type": "text",
        "id": "lp91ZMNrM20p"
      },
      "source": [
        "### TF-IDF score "
      ]
    },
    {
      "cell_type": "markdown",
      "metadata": {
        "colab_type": "text",
        "id": "pyy5imFuM20q"
      },
      "source": [
        "#### Please, review again this article or read it if you have not done it before. \n",
        "\n",
        "https://medium.com/@paritosh_30025/natural-language-processing-text-data-vectorization-af2520529cf7"
      ]
    },
    {
      "cell_type": "markdown",
      "metadata": {
        "colab_type": "text",
        "id": "IDKX5ddOM20q"
      },
      "source": [
        "#### Implement calculating a tf-idf score for each of the words from your vocabulary. \n",
        "\n",
        "The main goal of this taks is to create a dictionary - keys of the dictionary would be tokens and values would be corresponding tf-idf score of the token.\n",
        "\n",
        "#### Calculate it MANUALLY and compare the received scores for words with the sklearn implementation:  \n",
        "from sklearn.feature_extraction.text import TfidfTransformer "
      ]
    },
    {
      "cell_type": "markdown",
      "metadata": {
        "colab_type": "text",
        "id": "ZK0tNv2aM20r"
      },
      "source": [
        "#### Tip: \n",
        "\n",
        "##### TF = (Number of time the word occurs in the current text) / (Total number of words in the current text)  \n",
        "\n",
        "##### IDF = (Total number of documents / Number of documents with word t in it)\n",
        "\n",
        "##### TF-IDF = TF*IDF "
      ]
    },
    {
      "cell_type": "markdown",
      "metadata": {
        "colab_type": "text",
        "id": "vWWFPJ3UM20r"
      },
      "source": [
        "When you calculated a tf-idf score for each of the words in your vocabulary - revectorize the texts.  \n",
        "Instead of using number of occurences of the i-th word in the i-th cell of the text vector, use it's tf-idf score.   \n",
        "\n",
        "Revectorize the documents, save vectors into np.array. "
      ]
    },
    {
      "cell_type": "code",
      "metadata": {
        "colab_type": "code",
        "id": "ULKKD0Q2M20r",
        "colab": {
          "base_uri": "https://localhost:8080/",
          "height": 51
        },
        "outputId": "808db892-cac5-47d9-dae6-6b6a355d0e12"
      },
      "source": [
        "from numpy.linalg import norm\n",
        "def tfidf_vectorize(series):\n",
        "    N = series.size\n",
        "    m = len(cleaned_vocab)\n",
        "    tfidf_vectorized = lil_matrix((N,m))\n",
        "    cnt = Counter(flat_nested(series.apply(lambda x: list(set(x))).tolist()))\n",
        "    for i in range(N):\n",
        "        vec = np.zeros(m)\n",
        "        for word in set(series[i]):\n",
        "            try:\n",
        "                tf = float(series[i].count(word))/len(series[i])\n",
        "                d = cnt[word]\n",
        "                #vec += vocabulary[word]*np.log(float(N)/(d+1))*tf\n",
        "                vec +=  vocabulary[word]*tf*(np.log(float(1+N)/(1+d))+1)\n",
        "            except KeyError: \n",
        "                continue    \n",
        "        if norm(vec) == 0: \n",
        "            tfidf_vectorized[i] = vec\n",
        "        else: \n",
        "            tfidf_vectorized[i] = vec/norm(vec)\n",
        "    return tfidf_vectorized \n",
        "\n",
        "tfidf_vectorized = tfidf_vectorize(df.cleaned)\n",
        "tfidf_vectorized"
      ],
      "execution_count": 34,
      "outputs": [
        {
          "output_type": "execute_result",
          "data": {
            "text/plain": [
              "<159571x18696 sparse matrix of type '<class 'numpy.float64'>'\n",
              "\twith 2717279 stored elements in List of Lists format>"
            ]
          },
          "metadata": {
            "tags": []
          },
          "execution_count": 34
        }
      ]
    },
    {
      "cell_type": "code",
      "metadata": {
        "id": "jIKh5kG_jLDC",
        "colab_type": "code",
        "colab": {
          "base_uri": "https://localhost:8080/",
          "height": 34
        },
        "outputId": "2b757461-48c2-4335-d32c-d62f9d4af997"
      },
      "source": [
        "from sklearn.feature_extraction.text import TfidfVectorizer\n",
        "vectorizer = TfidfVectorizer(vocabulary=cleaned_vocab)\n",
        "print(tfidf_vectorized[0].todense(), vectorizer.fit_transform(df.cleaned.str.join(' '))[0].todense())"
      ],
      "execution_count": 35,
      "outputs": [
        {
          "output_type": "stream",
          "text": [
            "[[0.23737584 0.17370166 0.24984909 ... 0.         0.         0.        ]] [[0.23799837 0.17384245 0.25054612 ... 0.         0.         0.        ]]\n"
          ],
          "name": "stdout"
        }
      ]
    },
    {
      "cell_type": "code",
      "metadata": {
        "id": "CR4FfJPVT6AB",
        "colab_type": "code",
        "colab": {}
      },
      "source": [
        "from sklearn.feature_extraction.text import TfidfVectorizer\n",
        "categories = ['toxic','severe_toxic','obscene','threat','insult','identity_hate']\n",
        "vectorizer = TfidfVectorizer(vocabulary=cleaned_vocab)\n",
        "x_train = vectorizer.fit_transform(train.cleaned.str.join(' '))\n",
        "x_test = vectorizer.fit_transform(test.cleaned.str.join(' '))\n",
        "y_train = train[categories].values\n",
        "y_test = test[categories].values"
      ],
      "execution_count": 0,
      "outputs": []
    },
    {
      "cell_type": "markdown",
      "metadata": {
        "colab_type": "text",
        "id": "-Ur0hX3hM20t"
      },
      "source": [
        "### Training the model "
      ]
    },
    {
      "cell_type": "markdown",
      "metadata": {
        "colab_type": "text",
        "id": "M6Thn5enM20t"
      },
      "source": [
        "As it was said before, select any of the text classification models for the selected task and train the model. \n",
        "\n",
        "When the model is trained, you need to evaluate it somehow. \n",
        "\n",
        "Read about True positive, False positive, False negative and True negative counts and how to calculate them:   \n",
        "\n",
        "https://developers.google.com/machine-learning/crash-course/classification/true-false-positive-negative \n",
        "\n",
        "##### Calculate TP, FP, FN and TN on the test set for your model to measure its performance. \n"
      ]
    },
    {
      "cell_type": "code",
      "metadata": {
        "id": "gAyfBcPcT6AE",
        "colab_type": "code",
        "colab": {
          "base_uri": "https://localhost:8080/",
          "height": 119
        },
        "outputId": "da25b118-0e4f-4b62-a362-002cf39a9244"
      },
      "source": [
        "#tfidf KNN\n",
        "classifier = KNeighborsClassifier()\n",
        "classifier.fit(x_train,y_train)\n",
        "\n",
        "predictions = classifier.predict(x_test)\n",
        "\n",
        "def score(pred,y):\n",
        "    TN = np.sum([(pred==y) & (y == 0)]) \n",
        "    TP = np.sum([(pred==y) & (y == 1)])\n",
        "    \n",
        "    FN = np.sum([(pred!=y) & (y == 1)])\n",
        "    FP = np.sum([(pred!=y) & (y == 0)])\n",
        "\n",
        "    return TN, TP, FN, FP\n",
        "\n",
        "def score_2(pred,y):\n",
        "    TN, TP, FN, FP = score(pred,y)\n",
        "    prec = TP/(FP+TP)\n",
        "    rec = TP/(TP+FN)\n",
        "    F1 = 2*TP/(2*TP + FP + FN)\n",
        "    F2 = 5*prec*rec/(4*prec + rec)\n",
        "    acc = (TP +TN)/(TN + TP + FN + FP)\n",
        "    lst = np.around([prec, rec, F1, F2, acc], decimals=2)\n",
        "    names = ['prec', 'rec', 'F1', 'F2', 'acc']\n",
        "    return dict(zip(names, lst))\n",
        "\n",
        "\n",
        "for i in range(6):\n",
        "    print(categories[i], ':', score_2(predictions.T[i], y_test.T[i])) "
      ],
      "execution_count": 37,
      "outputs": [
        {
          "output_type": "stream",
          "text": [
            "toxic : {'prec': 0.27, 'rec': 0.33, 'F1': 0.29, 'F2': 0.31, 'acc': 0.85}\n",
            "severe_toxic : {'prec': 0.29, 'rec': 0.14, 'F1': 0.19, 'F2': 0.16, 'acc': 0.99}\n",
            "obscene : {'prec': 0.31, 'rec': 0.29, 'F1': 0.3, 'F2': 0.3, 'acc': 0.93}\n",
            "threat : {'prec': 0.5, 'rec': 0.02, 'F1': 0.03, 'F2': 0.02, 'acc': 1.0}\n",
            "insult : {'prec': 0.42, 'rec': 0.29, 'F1': 0.35, 'F2': 0.31, 'acc': 0.95}\n",
            "identity_hate : {'prec': 0.51, 'rec': 0.1, 'F1': 0.17, 'F2': 0.12, 'acc': 0.99}\n"
          ],
          "name": "stdout"
        }
      ]
    },
    {
      "cell_type": "code",
      "metadata": {
        "id": "nuPZfgDpVVAL",
        "colab_type": "code",
        "colab": {
          "base_uri": "https://localhost:8080/",
          "height": 119
        },
        "outputId": "96a7c4ec-3b60-4a0a-ab4e-2a3a0a9b247a"
      },
      "source": [
        "#tfidf RandomForest\n",
        "classifier = RandomForestClassifier()\n",
        "classifier.fit(x_train,y_train)\n",
        "\n",
        "predictions = classifier.predict(x_test)\n",
        "\n",
        "for i in range(6):\n",
        "    print(categories[i], ':', score_2(predictions.T[i], y_test.T[i]))     "
      ],
      "execution_count": 38,
      "outputs": [
        {
          "output_type": "stream",
          "text": [
            "toxic : {'prec': 0.79, 'rec': 0.48, 'F1': 0.6, 'F2': 0.52, 'acc': 0.94}\n",
            "severe_toxic : {'prec': 0.24, 'rec': 0.05, 'F1': 0.08, 'F2': 0.06, 'acc': 0.99}\n",
            "obscene : {'prec': 0.78, 'rec': 0.5, 'F1': 0.61, 'F2': 0.54, 'acc': 0.97}\n",
            "threat : {'prec': 0.13, 'rec': 0.02, 'F1': 0.03, 'F2': 0.02, 'acc': 1.0}\n",
            "insult : {'prec': 0.71, 'rec': 0.5, 'F1': 0.59, 'F2': 0.53, 'acc': 0.97}\n",
            "identity_hate : {'prec': 0.42, 'rec': 0.1, 'F1': 0.16, 'F2': 0.12, 'acc': 0.99}\n"
          ],
          "name": "stdout"
        }
      ]
    },
    {
      "cell_type": "code",
      "metadata": {
        "id": "2rGetYUSQmP7",
        "colab_type": "code",
        "colab": {
          "base_uri": "https://localhost:8080/",
          "height": 119
        },
        "outputId": "256b6ed6-a887-43ee-fc3c-241b136282e0"
      },
      "source": [
        "#one-hot knn\n",
        "x_train = cnt_vectorize(train.cleaned)\n",
        "x_test = cnt_vectorize(test.cleaned)\n",
        "\n",
        "classifier = KNeighborsClassifier()\n",
        "classifier.fit(x_train,y_train)\n",
        "\n",
        "predictions = classifier.predict(x_test)\n",
        "\n",
        "for i in range(6):\n",
        "    print(categories[i], ':', score_2(predictions.T[i], y_test.T[i]))     "
      ],
      "execution_count": 60,
      "outputs": [
        {
          "output_type": "stream",
          "text": [
            "toxic : {'prec': 0.57, 'rec': 0.33, 'F1': 0.42, 'F2': 0.36, 'acc': 0.91}\n",
            "severe_toxic : {'prec': 0.34, 'rec': 0.16, 'F1': 0.22, 'F2': 0.18, 'acc': 0.99}\n",
            "obscene : {'prec': 0.64, 'rec': 0.34, 'F1': 0.44, 'F2': 0.37, 'acc': 0.96}\n",
            "threat : {'prec': 0.33, 'rec': 0.03, 'F1': 0.06, 'F2': 0.04, 'acc': 1.0}\n",
            "insult : {'prec': 0.68, 'rec': 0.33, 'F1': 0.45, 'F2': 0.37, 'acc': 0.96}\n",
            "identity_hate : {'prec': 0.42, 'rec': 0.08, 'F1': 0.13, 'F2': 0.09, 'acc': 0.99}\n"
          ],
          "name": "stdout"
        }
      ]
    },
    {
      "cell_type": "code",
      "metadata": {
        "id": "NaIdMTLLQ9RB",
        "colab_type": "code",
        "colab": {
          "base_uri": "https://localhost:8080/",
          "height": 119
        },
        "outputId": "8ecd140d-e8e6-49c9-cb6c-f7526ea507fa"
      },
      "source": [
        "#one-hot RandomForest \n",
        "classifier = RandomForestClassifier()\n",
        "classifier.fit(x_train,y_train)\n",
        "\n",
        "predictions = classifier.predict(x_test)\n",
        "\n",
        "for i in range(6):\n",
        "    print(categories[i], ':', score_2(predictions.T[i], y_test.T[i]))   "
      ],
      "execution_count": 61,
      "outputs": [
        {
          "output_type": "stream",
          "text": [
            "toxic : {'prec': 0.7, 'rec': 0.51, 'F1': 0.59, 'F2': 0.54, 'acc': 0.93}\n",
            "severe_toxic : {'prec': 0.32, 'rec': 0.14, 'F1': 0.19, 'F2': 0.16, 'acc': 0.99}\n",
            "obscene : {'prec': 0.71, 'rec': 0.51, 'F1': 0.59, 'F2': 0.54, 'acc': 0.96}\n",
            "threat : {'prec': 0.17, 'rec': 0.03, 'F1': 0.05, 'F2': 0.04, 'acc': 1.0}\n",
            "insult : {'prec': 0.64, 'rec': 0.51, 'F1': 0.57, 'F2': 0.53, 'acc': 0.96}\n",
            "identity_hate : {'prec': 0.31, 'rec': 0.1, 'F1': 0.15, 'F2': 0.12, 'acc': 0.99}\n"
          ],
          "name": "stdout"
        }
      ]
    },
    {
      "cell_type": "markdown",
      "metadata": {
        "colab_type": "text",
        "id": "lGB1SBGxM20x"
      },
      "source": [
        "Calculate these metrics for the vectorization created using count vectorizing and for tf-idf vectorization.  \n",
        "Compare them. "
      ]
    },
    {
      "cell_type": "markdown",
      "metadata": {
        "colab_type": "text",
        "id": "Bb-7GlKtM20x"
      },
      "source": [
        "### Conclusions and improvements "
      ]
    },
    {
      "cell_type": "markdown",
      "metadata": {
        "colab_type": "text",
        "id": "crbZS6OiM20y"
      },
      "source": [
        "For all of the vectorization pipelines we used all of the words, which were available in our dictionary, as experiment try to use the most meaningful words - select them using TF-IDF score. (for example for each text you can select not more than 10 words for vectorization, or less). \n",
        "\n",
        "Compare this approach with the first and second ones. Did your model improve? \n",
        "\n"
      ]
    },
    {
      "cell_type": "code",
      "metadata": {
        "id": "6tZQ563MFA01",
        "colab_type": "code",
        "colab": {}
      },
      "source": [
        "from scipy.sparse import csr_matrix\n",
        "x_train = vectorizer.fit_transform(train.cleaned.str.join(' '))\n",
        "x_test = vectorizer.fit_transform(test.cleaned.str.join(' '))\n",
        "x_train = csr_matrix(x_train)\n",
        "vec = np.ones(10)\n",
        "for i in range(x_train.shape[0]):\n",
        "    temp = x_train[i].toarray()[0]\n",
        "    maxidx = np.argpartition(temp, -10)[-10:]\n",
        "    vec1 = np.zeros(len(cleaned_vocab))\n",
        "    np.put(vec1, maxidx, vec)\n",
        "    x_train[i]=csr_matrix(np.multiply(temp,vec1))"
      ],
      "execution_count": 0,
      "outputs": []
    },
    {
      "cell_type": "code",
      "metadata": {
        "id": "PYE3eKpbNZ-B",
        "colab_type": "code",
        "colab": {
          "base_uri": "https://localhost:8080/",
          "height": 119
        },
        "outputId": "9a78cf76-f8fb-419c-c442-8f81860445dc"
      },
      "source": [
        "classifier = KNeighborsClassifier()\n",
        "classifier.fit(x_train,y_train)\n",
        "\n",
        "predictions = classifier.predict(x_test)\n",
        "\n",
        "for i in range(6):\n",
        "    print(categories[i], ':', score_2(predictions.T[i], y_test.T[i]))     "
      ],
      "execution_count": 63,
      "outputs": [
        {
          "output_type": "stream",
          "text": [
            "toxic : {'prec': 0.29, 'rec': 0.38, 'F1': 0.33, 'F2': 0.36, 'acc': 0.86}\n",
            "severe_toxic : {'prec': 0.28, 'rec': 0.14, 'F1': 0.19, 'F2': 0.16, 'acc': 0.99}\n",
            "obscene : {'prec': 0.3, 'rec': 0.35, 'F1': 0.32, 'F2': 0.34, 'acc': 0.92}\n",
            "threat : {'prec': 0.4, 'rec': 0.02, 'F1': 0.03, 'F2': 0.02, 'acc': 1.0}\n",
            "insult : {'prec': 0.36, 'rec': 0.35, 'F1': 0.35, 'F2': 0.35, 'acc': 0.94}\n",
            "identity_hate : {'prec': 0.48, 'rec': 0.08, 'F1': 0.13, 'F2': 0.09, 'acc': 0.99}\n"
          ],
          "name": "stdout"
        }
      ]
    },
    {
      "cell_type": "markdown",
      "metadata": {
        "colab_type": "text",
        "id": "-SmcoNzRM20y"
      },
      "source": [
        "### Additionally, visualisations "
      ]
    },
    {
      "cell_type": "markdown",
      "metadata": {
        "colab_type": "text",
        "id": "4foII4pCM20z"
      },
      "source": [
        "For now you have a vector for each word from your vocabulary. \n",
        "You have vectors with lenght > 18000, so the dimension of your space is more than 18000 - it's impossible to visualise it in 2d space. \n",
        "\n",
        "So try to research and look for algorithms which perform dimensionality reduction. (t-SNE, PCA) \n",
        "Try to visualise obtained vectors in a vectorspace, only subset from the vocabulary, don't plot all of the words. (100) \n",
        "\n",
        "Probably on this step you will realise how this type of vectorization using these techniques is not the best way to vectorize words. \n",
        "\n",
        "Please, analyse the obtained results and explain why visualisation looks like this. "
      ]
    }
  ]
}