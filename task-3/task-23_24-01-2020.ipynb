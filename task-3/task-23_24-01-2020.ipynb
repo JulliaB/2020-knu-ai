{
 "cells": [
  {
   "cell_type": "markdown",
   "metadata": {},
   "source": [
    "## Prerequisites\n",
    "\n"
   ]
  },
  {
   "cell_type": "code",
   "execution_count": 36,
   "metadata": {},
   "outputs": [],
   "source": [
    "import pandas as pd \n",
    "import numpy as np\n",
    "\n",
    "from sklearn.linear_model import LogisticRegression\n",
    "from sklearn.neighbors import KNeighborsClassifier\n",
    "from sklearn.ensemble import RandomForestClassifier\n",
    "from sklearn.svm import SVC\n",
    "from sklearn.naive_bayes import GaussianNB\n",
    "\n",
    "from scipy.sparse import load_npz\n",
    "from scipy.sparse import save_npz\n",
    "\n",
    "import os\n",
    "from os import chdir\n",
    "chdir(\n",
    "    r'C:\\Users\\laplace-transform\\AppData\\Local\\Programs\\Python\\Python37\\notebooks\\2020-knu-ai-master\\jigsaw-toxic-comment-classification-challenge'\n",
    ")"
   ]
  },
  {
   "cell_type": "markdown",
   "metadata": {},
   "source": [
    "### Note! Some of these models support only multiclass classification, please, while selecting your dataset,  \n",
    "### be sure that for algorithms which does not support multilabel classification you use only examples with only one label. \n",
    "### Examples without a label in any of the provided categories are clean messages, without any toxicity."
   ]
  },
  {
   "cell_type": "code",
   "execution_count": 37,
   "metadata": {},
   "outputs": [],
   "source": [
    "df = pd.read_csv(\"../jigsaw-toxic-comment-classification-challenge/train.csv\")"
   ]
  },
  {
   "cell_type": "code",
   "execution_count": 38,
   "metadata": {},
   "outputs": [
    {
     "data": {
      "text/html": [
       "<div>\n",
       "<style scoped>\n",
       "    .dataframe tbody tr th:only-of-type {\n",
       "        vertical-align: middle;\n",
       "    }\n",
       "\n",
       "    .dataframe tbody tr th {\n",
       "        vertical-align: top;\n",
       "    }\n",
       "\n",
       "    .dataframe thead th {\n",
       "        text-align: right;\n",
       "    }\n",
       "</style>\n",
       "<table border=\"1\" class=\"dataframe\">\n",
       "  <thead>\n",
       "    <tr style=\"text-align: right;\">\n",
       "      <th></th>\n",
       "      <th>id</th>\n",
       "      <th>comment_text</th>\n",
       "      <th>toxic</th>\n",
       "      <th>severe_toxic</th>\n",
       "      <th>obscene</th>\n",
       "      <th>threat</th>\n",
       "      <th>insult</th>\n",
       "      <th>identity_hate</th>\n",
       "    </tr>\n",
       "  </thead>\n",
       "  <tbody>\n",
       "    <tr>\n",
       "      <th>0</th>\n",
       "      <td>0000997932d777bf</td>\n",
       "      <td>Explanation\\nWhy the edits made under my usern...</td>\n",
       "      <td>0</td>\n",
       "      <td>0</td>\n",
       "      <td>0</td>\n",
       "      <td>0</td>\n",
       "      <td>0</td>\n",
       "      <td>0</td>\n",
       "    </tr>\n",
       "    <tr>\n",
       "      <th>1</th>\n",
       "      <td>000103f0d9cfb60f</td>\n",
       "      <td>D'aww! He matches this background colour I'm s...</td>\n",
       "      <td>0</td>\n",
       "      <td>0</td>\n",
       "      <td>0</td>\n",
       "      <td>0</td>\n",
       "      <td>0</td>\n",
       "      <td>0</td>\n",
       "    </tr>\n",
       "    <tr>\n",
       "      <th>2</th>\n",
       "      <td>000113f07ec002fd</td>\n",
       "      <td>Hey man, I'm really not trying to edit war. It...</td>\n",
       "      <td>0</td>\n",
       "      <td>0</td>\n",
       "      <td>0</td>\n",
       "      <td>0</td>\n",
       "      <td>0</td>\n",
       "      <td>0</td>\n",
       "    </tr>\n",
       "    <tr>\n",
       "      <th>3</th>\n",
       "      <td>0001b41b1c6bb37e</td>\n",
       "      <td>\"\\nMore\\nI can't make any real suggestions on ...</td>\n",
       "      <td>0</td>\n",
       "      <td>0</td>\n",
       "      <td>0</td>\n",
       "      <td>0</td>\n",
       "      <td>0</td>\n",
       "      <td>0</td>\n",
       "    </tr>\n",
       "    <tr>\n",
       "      <th>4</th>\n",
       "      <td>0001d958c54c6e35</td>\n",
       "      <td>You, sir, are my hero. Any chance you remember...</td>\n",
       "      <td>0</td>\n",
       "      <td>0</td>\n",
       "      <td>0</td>\n",
       "      <td>0</td>\n",
       "      <td>0</td>\n",
       "      <td>0</td>\n",
       "    </tr>\n",
       "  </tbody>\n",
       "</table>\n",
       "</div>"
      ],
      "text/plain": [
       "                 id                                       comment_text  toxic  \\\n",
       "0  0000997932d777bf  Explanation\\nWhy the edits made under my usern...      0   \n",
       "1  000103f0d9cfb60f  D'aww! He matches this background colour I'm s...      0   \n",
       "2  000113f07ec002fd  Hey man, I'm really not trying to edit war. It...      0   \n",
       "3  0001b41b1c6bb37e  \"\\nMore\\nI can't make any real suggestions on ...      0   \n",
       "4  0001d958c54c6e35  You, sir, are my hero. Any chance you remember...      0   \n",
       "\n",
       "   severe_toxic  obscene  threat  insult  identity_hate  \n",
       "0             0        0       0       0              0  \n",
       "1             0        0       0       0              0  \n",
       "2             0        0       0       0              0  \n",
       "3             0        0       0       0              0  \n",
       "4             0        0       0       0              0  "
      ]
     },
     "execution_count": 38,
     "metadata": {},
     "output_type": "execute_result"
    }
   ],
   "source": [
    "df.head()"
   ]
  },
  {
   "cell_type": "code",
   "execution_count": 39,
   "metadata": {},
   "outputs": [
    {
     "data": {
      "text/plain": [
       "(159571, 8)"
      ]
     },
     "execution_count": 39,
     "metadata": {},
     "output_type": "execute_result"
    }
   ],
   "source": [
    "df.shape"
   ]
  },
  {
   "cell_type": "markdown",
   "metadata": {},
   "source": [
    "### As one of the methods to make the training simpier, use only examples, assigned to any category vs clean examples.  \n",
    "For example:  \n",
    "- Select only messages with obscene label == 1  \n",
    "- Select all of the \"clean\" messages  \n",
    "Implement a model which can perform a binary classification  - to understand whether your message is obscene or not.   "
   ]
  },
  {
   "cell_type": "markdown",
   "metadata": {},
   "source": [
    "##### If you want to perform a multilabel classification, please understand the difference between multilabel and multiclass classification and be sure that you are solving the correct task - choose only algorithms applicable for solving this type of problem."
   ]
  },
  {
   "cell_type": "markdown",
   "metadata": {},
   "source": [
    "#### To work with multiclass task:  \n",
    "You only need to select messages which have only one label assigned: message cannot be assigned to 2 or more categories.  \n",
    "\n",
    "#### To work with multilabel task: \n",
    "You can work with the whole dataset - some of your messages have only 1 label, some more than 1. "
   ]
  },
  {
   "cell_type": "markdown",
   "metadata": {},
   "source": [
    "## Text vectorization"
   ]
  },
  {
   "cell_type": "markdown",
   "metadata": {},
   "source": [
    "Previously we worked only with words vectorization. But we need to have a vector for each text, not only words from it. \n",
    "\n",
    "Before starting a text vectorization, please, make sure you are working with clean data - use the dataset created on the previous day. Cleaned from punctuation, stop words, lemmatized or stemmed, etc. "
   ]
  },
  {
   "cell_type": "code",
   "execution_count": 40,
   "metadata": {},
   "outputs": [],
   "source": [
    "from string import punctuation\n",
    "\n",
    "from nltk.tokenize import word_tokenize\n",
    "from nltk.corpus import stopwords\n",
    "from nltk.stem import WordNetLemmatizer \n",
    "\n",
    "lemmatizer = WordNetLemmatizer() \n",
    "stop_words = set(stopwords.words('english'))"
   ]
  },
  {
   "cell_type": "code",
   "execution_count": 41,
   "metadata": {},
   "outputs": [],
   "source": [
    "def preprocess_text(tokenizer, lemmatizer, stop_words, punctuation, text): \n",
    "    tokens = tokenizer(text.lower())\n",
    "    lemmas = [lemmatizer.lemmatize(token) for token in tokens]\n",
    "    return [token for token in lemmas if token not in stop_words and token not in punctuation]\n",
    "\n",
    "df['cleaned'] = df.comment_text.apply(lambda x: preprocess_text(word_tokenize, lemmatizer, stop_words, punctuation, x))"
   ]
  },
  {
   "cell_type": "code",
   "execution_count": 42,
   "metadata": {},
   "outputs": [
    {
     "data": {
      "text/html": [
       "<div>\n",
       "<style scoped>\n",
       "    .dataframe tbody tr th:only-of-type {\n",
       "        vertical-align: middle;\n",
       "    }\n",
       "\n",
       "    .dataframe tbody tr th {\n",
       "        vertical-align: top;\n",
       "    }\n",
       "\n",
       "    .dataframe thead th {\n",
       "        text-align: right;\n",
       "    }\n",
       "</style>\n",
       "<table border=\"1\" class=\"dataframe\">\n",
       "  <thead>\n",
       "    <tr style=\"text-align: right;\">\n",
       "      <th></th>\n",
       "      <th>id</th>\n",
       "      <th>comment_text</th>\n",
       "      <th>toxic</th>\n",
       "      <th>severe_toxic</th>\n",
       "      <th>obscene</th>\n",
       "      <th>threat</th>\n",
       "      <th>insult</th>\n",
       "      <th>identity_hate</th>\n",
       "      <th>cleaned</th>\n",
       "    </tr>\n",
       "  </thead>\n",
       "  <tbody>\n",
       "    <tr>\n",
       "      <th>0</th>\n",
       "      <td>0000997932d777bf</td>\n",
       "      <td>Explanation\\nWhy the edits made under my usern...</td>\n",
       "      <td>0</td>\n",
       "      <td>0</td>\n",
       "      <td>0</td>\n",
       "      <td>0</td>\n",
       "      <td>0</td>\n",
       "      <td>0</td>\n",
       "      <td>[explanation, edits, made, username, hardcore,...</td>\n",
       "    </tr>\n",
       "    <tr>\n",
       "      <th>1</th>\n",
       "      <td>000103f0d9cfb60f</td>\n",
       "      <td>D'aww! He matches this background colour I'm s...</td>\n",
       "      <td>0</td>\n",
       "      <td>0</td>\n",
       "      <td>0</td>\n",
       "      <td>0</td>\n",
       "      <td>0</td>\n",
       "      <td>0</td>\n",
       "      <td>[d'aww, match, background, colour, 'm, seeming...</td>\n",
       "    </tr>\n",
       "    <tr>\n",
       "      <th>2</th>\n",
       "      <td>000113f07ec002fd</td>\n",
       "      <td>Hey man, I'm really not trying to edit war. It...</td>\n",
       "      <td>0</td>\n",
       "      <td>0</td>\n",
       "      <td>0</td>\n",
       "      <td>0</td>\n",
       "      <td>0</td>\n",
       "      <td>0</td>\n",
       "      <td>[hey, man, 'm, really, trying, edit, war, 's, ...</td>\n",
       "    </tr>\n",
       "    <tr>\n",
       "      <th>3</th>\n",
       "      <td>0001b41b1c6bb37e</td>\n",
       "      <td>\"\\nMore\\nI can't make any real suggestions on ...</td>\n",
       "      <td>0</td>\n",
       "      <td>0</td>\n",
       "      <td>0</td>\n",
       "      <td>0</td>\n",
       "      <td>0</td>\n",
       "      <td>0</td>\n",
       "      <td>[``, ca, n't, make, real, suggestion, improvem...</td>\n",
       "    </tr>\n",
       "    <tr>\n",
       "      <th>4</th>\n",
       "      <td>0001d958c54c6e35</td>\n",
       "      <td>You, sir, are my hero. Any chance you remember...</td>\n",
       "      <td>0</td>\n",
       "      <td>0</td>\n",
       "      <td>0</td>\n",
       "      <td>0</td>\n",
       "      <td>0</td>\n",
       "      <td>0</td>\n",
       "      <td>[sir, hero, chance, remember, page, 's]</td>\n",
       "    </tr>\n",
       "  </tbody>\n",
       "</table>\n",
       "</div>"
      ],
      "text/plain": [
       "                 id                                       comment_text  toxic  \\\n",
       "0  0000997932d777bf  Explanation\\nWhy the edits made under my usern...      0   \n",
       "1  000103f0d9cfb60f  D'aww! He matches this background colour I'm s...      0   \n",
       "2  000113f07ec002fd  Hey man, I'm really not trying to edit war. It...      0   \n",
       "3  0001b41b1c6bb37e  \"\\nMore\\nI can't make any real suggestions on ...      0   \n",
       "4  0001d958c54c6e35  You, sir, are my hero. Any chance you remember...      0   \n",
       "\n",
       "   severe_toxic  obscene  threat  insult  identity_hate  \\\n",
       "0             0        0       0       0              0   \n",
       "1             0        0       0       0              0   \n",
       "2             0        0       0       0              0   \n",
       "3             0        0       0       0              0   \n",
       "4             0        0       0       0              0   \n",
       "\n",
       "                                             cleaned  \n",
       "0  [explanation, edits, made, username, hardcore,...  \n",
       "1  [d'aww, match, background, colour, 'm, seeming...  \n",
       "2  [hey, man, 'm, really, trying, edit, war, 's, ...  \n",
       "3  [``, ca, n't, make, real, suggestion, improvem...  \n",
       "4            [sir, hero, chance, remember, page, 's]  "
      ]
     },
     "execution_count": 42,
     "metadata": {},
     "output_type": "execute_result"
    }
   ],
   "source": [
    "df.head()"
   ]
  },
  {
   "cell_type": "code",
   "execution_count": 43,
   "metadata": {},
   "outputs": [],
   "source": [
    "def flat_nested(nested):\n",
    "    flatten = []\n",
    "    for item in nested:\n",
    "        if isinstance(item, list):\n",
    "            flatten.extend(item)\n",
    "        else:\n",
    "            flatten.append(item)\n",
    "    return flatten"
   ]
  },
  {
   "cell_type": "code",
   "execution_count": 44,
   "metadata": {},
   "outputs": [],
   "source": [
    "vocab = set(flat_nested(df.cleaned.tolist()))"
   ]
  },
  {
   "cell_type": "code",
   "execution_count": 45,
   "metadata": {},
   "outputs": [
    {
     "data": {
      "text/plain": [
       "249531"
      ]
     },
     "execution_count": 45,
     "metadata": {},
     "output_type": "execute_result"
    }
   ],
   "source": [
    "len(vocab)"
   ]
  },
  {
   "cell_type": "markdown",
   "metadata": {},
   "source": [
    "As we see, probably you vocabulary is too large.  \n",
    "Let's try to make it smaller.  \n",
    "For example, let's get rig of words, which has counts in our dataset less than some threshold."
   ]
  },
  {
   "cell_type": "code",
   "execution_count": 46,
   "metadata": {},
   "outputs": [],
   "source": [
    "from collections import Counter, defaultdict \n",
    "\n",
    "cnt_vocab = Counter(flat_nested(df.cleaned.tolist()))"
   ]
  },
  {
   "cell_type": "code",
   "execution_count": 47,
   "metadata": {},
   "outputs": [
    {
     "data": {
      "text/plain": [
       "[(\"''\", 241319),\n",
       " ('``', 156982),\n",
       " ('article', 73264),\n",
       " (\"'s\", 66766),\n",
       " (\"n't\", 57144),\n",
       " ('wa', 56590),\n",
       " ('page', 56239),\n",
       " ('wikipedia', 45413),\n",
       " ('talk', 35356),\n",
       " ('ha', 31896)]"
      ]
     },
     "execution_count": 47,
     "metadata": {},
     "output_type": "execute_result"
    }
   ],
   "source": [
    "cnt_vocab.most_common(10)"
   ]
  },
  {
   "cell_type": "markdown",
   "metadata": {},
   "source": [
    "You can clean words which are shorter that particular length and occur less than N times. "
   ]
  },
  {
   "cell_type": "code",
   "execution_count": 48,
   "metadata": {},
   "outputs": [],
   "source": [
    "threshold_count = 10\n",
    "threshold_len = 4 \n",
    "cleaned_vocab = [token for token, count in cnt_vocab.items() if count > threshold_count and len(token) > threshold_len]"
   ]
  },
  {
   "cell_type": "code",
   "execution_count": 49,
   "metadata": {},
   "outputs": [
    {
     "data": {
      "text/plain": [
       "18705"
      ]
     },
     "execution_count": 49,
     "metadata": {},
     "output_type": "execute_result"
    }
   ],
   "source": [
    "len(cleaned_vocab)"
   ]
  },
  {
   "cell_type": "markdown",
   "metadata": {},
   "source": [
    "Much better!  \n",
    "Let's try to vectorize the text summing one-hot vectors for each word. "
   ]
  },
  {
   "cell_type": "code",
   "execution_count": 50,
   "metadata": {},
   "outputs": [],
   "source": [
    "vocabulary = defaultdict()\n",
    "\n",
    "for i, token in enumerate(cleaned_vocab): \n",
    "    empty_vec = np.zeros(len(cleaned_vocab))\n",
    "    empty_vec[i] = 1 \n",
    "    vocabulary[token] = empty_vec"
   ]
  },
  {
   "cell_type": "code",
   "execution_count": 51,
   "metadata": {},
   "outputs": [
    {
     "data": {
      "text/plain": [
       "array([0., 0., 0., ..., 0., 0., 0.])"
      ]
     },
     "execution_count": 51,
     "metadata": {},
     "output_type": "execute_result"
    }
   ],
   "source": [
    "vocabulary['hardcore']"
   ]
  },
  {
   "cell_type": "markdown",
   "metadata": {},
   "source": [
    "Rigth now we have vectors for words (words are one-hot vectorized)  \n",
    "Let's try to create vectors for texts: "
   ]
  },
  {
   "cell_type": "code",
   "execution_count": 52,
   "metadata": {},
   "outputs": [
    {
     "name": "stdout",
     "output_type": "stream",
     "text": [
      "['``', 'fair', 'use', 'rationale', 'image', 'wonju.jpg', 'thanks', 'uploading', 'image', 'wonju.jpg', 'notice', 'image', 'page', 'specifies', 'image', 'used', 'fair', 'use', 'explanation', 'rationale', 'use', 'wikipedia', 'article', 'constitutes', 'fair', 'use', 'addition', 'boilerplate', 'fair', 'use', 'template', 'must', 'also', 'write', 'image', 'description', 'page', 'specific', 'explanation', 'rationale', 'using', 'image', 'article', 'consistent', 'fair', 'use', 'please', 'go', 'image', 'description', 'page', 'edit', 'include', 'fair', 'use', 'rationale', 'uploaded', 'fair', 'use', 'medium', 'consider', 'checking', 'specified', 'fair', 'use', 'rationale', 'page', 'find', 'list', \"'image\", 'page', 'edited', 'clicking', '``', \"''\", 'contribution', \"''\", \"''\", 'link', 'located', 'top', 'wikipedia', 'page', 'logged', 'selecting', '``', \"''\", 'image', \"''\", \"''\", 'dropdown', 'box', 'note', 'fair', 'use', 'image', 'uploaded', '4', 'may', '2006', 'lacking', 'explanation', 'deleted', 'one', 'week', 'uploaded', 'described', 'criterion', 'speedy', 'deletion', 'question', 'please', 'ask', 'medium', 'copyright', 'question', 'page', 'thank', 'talk', '•', 'contribs', '•', 'unspecified', 'source', 'image', 'wonju.jpg', 'thanks', 'uploading', 'image', 'wonju.jpg', 'noticed', 'file', \"'s\", 'description', 'page', 'currently', 'doe', \"n't\", 'specify', 'created', 'content', 'copyright', 'status', 'unclear', 'create', 'file', 'need', 'specify', 'owner', 'copyright', 'obtained', 'website', 'link', 'website', 'wa', 'taken', 'together', 'restatement', 'website', \"'s\", 'term', 'use', 'content', 'usually', 'sufficient', 'information', 'however', 'copyright', 'holder', 'different', 'website', \"'s\", 'publisher', 'copyright', 'also', 'acknowledged', 'well', 'adding', 'source', 'please', 'add', 'proper', 'copyright', 'licensing', 'tag', 'file', 'doe', \"n't\", 'one', 'already', 'created/took', 'picture', 'audio', 'video', 'tag', 'used', 'release', 'gfdl', 'believe', 'medium', 'meet', 'criterion', 'wikipedia', 'fair', 'use', 'use', 'tag', 'one', 'tag', 'listed', 'wikipedia', 'image', 'copyright', 'tag', 'fair', 'use', 'see', 'wikipedia', 'image', 'copyright', 'tag', 'full', 'list', 'copyright', 'tag', 'use', 'uploaded', 'file', 'consider', 'checking', 'specified', 'source', 'tagged', 'find', 'list', 'file', 'uploaded', 'following', 'link', 'unsourced', 'untagged', 'image', 'may', 'deleted', 'one', 'week', 'tagged', 'described', 'criterion', 'speedy', 'deletion', 'image', 'copyrighted', 'non-free', 'license', 'per', 'wikipedia', 'fair', 'use', 'image', 'deleted', '48', 'hour', 'question', 'please', 'ask', 'medium', 'copyright', 'question', 'page', 'thank', 'talk', '•', 'contribs', '•', '``']\n"
     ]
    }
   ],
   "source": [
    "sample_text = df.cleaned[10]\n",
    "print(sample_text)"
   ]
  },
  {
   "cell_type": "markdown",
   "metadata": {},
   "source": [
    "### One-hot vectorization and count vectorization"
   ]
  },
  {
   "cell_type": "code",
   "execution_count": 53,
   "metadata": {},
   "outputs": [],
   "source": [
    "sample_vector = np.zeros(len(cleaned_vocab))\n",
    "\n",
    "for token in sample_text: \n",
    "    try: \n",
    "        sample_vector += vocabulary[token]\n",
    "    except KeyError: \n",
    "\n",
    "        continue"
   ]
  },
  {
   "cell_type": "code",
   "execution_count": 54,
   "metadata": {},
   "outputs": [
    {
     "data": {
      "text/plain": [
       "array([3., 0., 0., ..., 0., 0., 0.])"
      ]
     },
     "execution_count": 54,
     "metadata": {},
     "output_type": "execute_result"
    }
   ],
   "source": [
    "sample_vector"
   ]
  },
  {
   "cell_type": "markdown",
   "metadata": {},
   "source": [
    "Right now we have count vectorization for our text.   \n",
    "Use this pipeline to create vectors for all of the texts. Save them into np.array. i-th raw in np.array is a vector which represents i-th text from the dataframe.  "
   ]
  },
  {
   "cell_type": "code",
   "execution_count": 78,
   "metadata": {},
   "outputs": [],
   "source": [
    "from scipy.sparse import csr_matrix\n",
    "\n",
    "def vocabulary_interact_vect(\n",
    "    sample_text:     np.ndarray,\n",
    "    vocabulary_len:  int,\n",
    "    vect_vocabulary: defaultdict,\n",
    ") -> np.ndarray:\n",
    "    \n",
    "    text_vector = np.zeros(len(vect_vocabulary))\n",
    "    \n",
    "    for token in sample_text:\n",
    "        try: \n",
    "            text_vector += vect_vocabulary[token]\n",
    "        except KeyError: \n",
    "            continue\n",
    "    return text_vector\n",
    "\n",
    "\n",
    "# because we're going to use matrix interpret on train/test data\n",
    "# by the way, this algorithm is pretty slow, but gives correct results\n",
    "def vocabulary_interact_sparse(\n",
    "    corpus:          pd.Series,\n",
    "    vocabulary_len:  int,\n",
    "    vect_vocabulary: defaultdict,\n",
    ") -> csr_matrix:\n",
    "    \n",
    "    corpus_len = len(corpus)\n",
    "    \n",
    "    texts_vectorized = csr_matrix((corpus_len, vocabulary_len))\n",
    "    \n",
    "    for j in range(corpus_len):\n",
    "        print(j, corpus_len-1)\n",
    "        current_text_vector = vocabulary_interact_vect(\n",
    "            corpus[j], vocabulary_len, vect_vocabulary\n",
    "        )\n",
    "        \n",
    "        current_sparse_matr = csr_matrix(\n",
    "            (current_text_vector,(np.full(N, j),np.arange(N))), \n",
    "            shape = (corpus_len, vocabulary_len)\n",
    "        )\n",
    "        \n",
    "        texts_vectorized += current_sparse_matr\n",
    "    \n",
    "    return texts_vectorized"
   ]
  },
  {
   "cell_type": "code",
   "execution_count": 56,
   "metadata": {},
   "outputs": [
    {
     "data": {
      "text/plain": [
       "array([[3., 0., 0., ..., 0., 0., 0.]])"
      ]
     },
     "execution_count": 56,
     "metadata": {},
     "output_type": "execute_result"
    }
   ],
   "source": [
    "N = len(cleaned_vocab)\n",
    "\n",
    "text_vectorized = vocabulary_interact_sparse(\n",
    "    corpus = pd.Series([df.cleaned[10]]), vocabulary_len = N, vect_vocabulary = vocabulary\n",
    ")\n",
    "\n",
    "text_vectorized.toarray()"
   ]
  },
  {
   "cell_type": "code",
   "execution_count": 57,
   "metadata": {},
   "outputs": [],
   "source": [
    "util_load = True\n",
    "\n",
    "path0 = os.getcwd() + os.sep + 'document_term_matrix.npz', text_vectorized\n",
    "\n",
    "if util_load:\n",
    "    text_vectorized = load_npz(path0)\n",
    "else:\n",
    "    text_vectorized = vocabulary_interact_sparse(\n",
    "        corpus = df.cleaned, vocabulary_len = N, vect_vocabulary = vocabulary\n",
    "    )"
   ]
  },
  {
   "cell_type": "code",
   "execution_count": 58,
   "metadata": {},
   "outputs": [
    {
     "data": {
      "text/plain": [
       "<159571x18705 sparse matrix of type '<class 'numpy.float64'>'\n",
       "\twith 2717363 stored elements in Compressed Sparse Row format>"
      ]
     },
     "execution_count": 58,
     "metadata": {},
     "output_type": "execute_result"
    }
   ],
   "source": [
    "text_vectorized"
   ]
  },
  {
   "cell_type": "code",
   "execution_count": 59,
   "metadata": {},
   "outputs": [],
   "source": [
    "import os\n",
    "\n",
    "util_save = False\n",
    "\n",
    "if util_save:\n",
    "    save_npz(path0, text_vectorized)\n",
    "    \n",
    "util_del = True\n",
    "\n",
    "if util_del:\n",
    "    del text_vectorized"
   ]
  },
  {
   "cell_type": "markdown",
   "metadata": {},
   "source": [
    "### The next step is to train any classification model on top of the received vectors and report the quality. "
   ]
  },
  {
   "cell_type": "markdown",
   "metadata": {},
   "source": [
    "Please, select any of the proposed pipelines for performing a text classification task. (Binary, multiclass or multilabel).  "
   ]
  },
  {
   "cell_type": "markdown",
   "metadata": {},
   "source": [
    "The main task to calculate our models performance is to create a training and test sets. When you selected a texts for your task, please, use https://scikit-learn.org/stable/modules/generated/sklearn.model_selection.train_test_split.html to have at least two sets - train and test.  \n",
    "\n",
    "Train examples you will use to train your model on and test examples to evaluate your model - to understand how your model works on the unseen data. "
   ]
  },
  {
   "cell_type": "markdown",
   "metadata": {},
   "source": [
    "### Train-test split "
   ]
  },
  {
   "cell_type": "code",
   "execution_count": 60,
   "metadata": {},
   "outputs": [
    {
     "name": "stdout",
     "output_type": "stream",
     "text": [
      "   insult                                            cleaned\n",
      "0       0  [explanation, edits, made, username, hardcore,...\n",
      "1       0  [d'aww, match, background, colour, 'm, seeming...\n",
      "2       0  [hey, man, 'm, really, trying, edit, war, 's, ...\n",
      "3       0  [``, ca, n't, make, real, suggestion, improvem...\n",
      "4       0            [sir, hero, chance, remember, page, 's]\n",
      "\n",
      "        insult                                            cleaned\n",
      "151218       1  [``, previous, conversation, fucking, shit, ea...\n",
      "151219       1                        [mischievious, pubic, hair]\n",
      "151220       1  [absurd, edits, absurd, edits, great, white, s...\n",
      "151221       1  [``, hey, listen, n't, ever, delete, edits, ev...\n",
      "151222       1  ['m, going, keep, posting, stuff, u, deleted, ...\n"
     ]
    }
   ],
   "source": [
    "### Your code here, splitting your dataset into train and test parts.\n",
    "\n",
    "# This time i'm going to handle binary classification task\n",
    "# First of all, I'll divide df into two separate groups:\n",
    "# - non-toxic data\n",
    "# - insult labelled data\n",
    "\n",
    "df_categories = [\n",
    "    'identity_hate', 'insult', 'obscene', 'severe_toxic', 'threat', 'toxic'\n",
    "]\n",
    "\n",
    "crucial_data = df[[df_categories[1], 'cleaned']]\n",
    "\n",
    "df_non_toxic = crucial_data[~df[df_categories].any(axis = 'columns')]\n",
    "df_insulting = crucial_data[df.insult != 0]\n",
    "\n",
    "df_combined = df_non_toxic.append(df_insulting).reset_index(drop = True)\n",
    "\n",
    "print(\n",
    "    df_combined.head(),\n",
    "    df_combined.tail(),\n",
    "    sep = '\\n\\n'\n",
    ")"
   ]
  },
  {
   "cell_type": "code",
   "execution_count": 74,
   "metadata": {},
   "outputs": [],
   "source": [
    "from sklearn.model_selection import train_test_split\n",
    "\n",
    "custom_test_size = 0.25\n",
    "\n",
    "X = df_combined['cleaned']\n",
    "Y = df_combined['insult']\n",
    "\n",
    "# making train and test sets for future model\n",
    "X_train, X_test, Y_train, Y_test = train_test_split(\n",
    "    X, Y, test_size = custom_test_size\n",
    ")\n",
    "\n",
    "X_train = X_train.reset_index(drop = True)\n",
    "X_test = X_test.reset_index(drop = True)\n",
    "\n",
    "Y_train = Y_train.reset_index(drop = True)\n",
    "Y_test = Y_test.reset_index(drop = True)"
   ]
  },
  {
   "cell_type": "code",
   "execution_count": 75,
   "metadata": {},
   "outputs": [
    {
     "data": {
      "text/plain": [
       "0    [pun, mobile, phone, good, call, eh, dennis, s...\n",
       "1    [think, want, hear, specific, detail, wikipedi...\n",
       "2    [keep, repeating, keep, explaining, keep, igno...\n",
       "3    [yes, triple-a, baseball, list, like, football...\n",
       "4    [block, stop, reverting, page, beverly, mullin...\n",
       "Name: cleaned, dtype: object"
      ]
     },
     "execution_count": 75,
     "metadata": {},
     "output_type": "execute_result"
    }
   ],
   "source": [
    "# Train set\n",
    "X_train.head()"
   ]
  },
  {
   "cell_type": "code",
   "execution_count": 76,
   "metadata": {},
   "outputs": [
    {
     "data": {
      "text/plain": [
       "0    [nz, chart, pre-, 1975, leo-, 'm, sure, 'll, s...\n",
       "1    [amazing, justice, thank, bottom, everyone, 's...\n",
       "2    [``, edit, please, create, account, log, due, ...\n",
       "3    [``, phrasing, wrong, ``, ``, lying, '', '', p...\n",
       "4                  [bring, pit, source, ..., yearbook]\n",
       "Name: cleaned, dtype: object"
      ]
     },
     "execution_count": 76,
     "metadata": {},
     "output_type": "execute_result"
    }
   ],
   "source": [
    "# Test set\n",
    "X_test.head()"
   ]
  },
  {
   "cell_type": "markdown",
   "metadata": {},
   "source": [
    "### TF-IDF score "
   ]
  },
  {
   "cell_type": "markdown",
   "metadata": {},
   "source": [
    "#### Please, review again this article or read it if you have not done it before. \n",
    "\n",
    "https://medium.com/@paritosh_30025/natural-language-processing-text-data-vectorization-af2520529cf7"
   ]
  },
  {
   "cell_type": "markdown",
   "metadata": {},
   "source": [
    "#### Implement calculating a tf-idf score for each of the words from your vocabulary. \n",
    "\n",
    "The main goal of this task is to create a dictionary - keys of the dictionary would be tokens and values would be corresponding tf-idf score of the token.\n",
    "\n",
    "#### Calculate it MANUALLY and compare the received scores for words with the sklearn implementation:  "
   ]
  },
  {
   "cell_type": "markdown",
   "metadata": {},
   "source": [
    "#### Tip: \n",
    "\n",
    "##### TF = (Number of time the word occurs in the current text) / (Total number of words in the current text)  \n",
    "\n",
    "##### IDF = (Total number of documents / Number of documents with word t in it)\n",
    "\n",
    "##### TF-IDF = TF*IDF "
   ]
  },
  {
   "cell_type": "markdown",
   "metadata": {},
   "source": [
    "When you calculated a tf-idf score for each of the words in your vocabulary - revectorize the texts.  \n",
    "Instead of using number of occurences of the i-th word in the i-th cell of the text vector, use it's tf-idf score.   \n",
    "\n",
    "Revectorize the documents, save vectors into np.array. "
   ]
  },
  {
   "cell_type": "code",
   "execution_count": 64,
   "metadata": {},
   "outputs": [],
   "source": [
    "### Your code here for obtaining a tf-idf vectorized documents. \n",
    "\n",
    "# Like mentioned above, we're going to define \n",
    "# the tf-idf vectorization method manually.\n",
    "\n",
    "def TF_binary(\n",
    "    term:     str,       # our token\n",
    "    document: list       # our text - a list of cleaned tokens\n",
    ") -> bool:\n",
    "    return term in document\n",
    "\n",
    "\n",
    "def TF(\n",
    "    term:     str,       # our token\n",
    "    document: list       # our text - a list of cleaned tokens\n",
    ") -> float:\n",
    "    return document.count(term)/len(document) if document else 0\n",
    "\n",
    "\n",
    "def IDF(\n",
    "    term:     str,       # our token\n",
    "    corpus:   pd.Series, # list of all texts, to which the mentioned one belongs\n",
    "    use_log:  bool       # apply log func on a result or not\n",
    ") -> float:\n",
    "    TF_binary_v_rough = np.vectorize(lambda doc: TF_binary(term, doc))\n",
    "    \n",
    "    return (np.log if use_log else (lambda t: t))(\n",
    "        len(corpus)/len(corpus[TF_binary_v_rough(corpus)])\n",
    "    )\n",
    "\n",
    "\n",
    "def TF_IDF(\n",
    "    term:     str,       # our token\n",
    "    document: list,      # our text - a list of cleaned tokens\n",
    "    corpus:   pd.Series, # list of all texts, to which the mentioned one belongs\n",
    "    use_log:  bool       # use IDF or IDF_enchanced in calculations below\n",
    ") -> float:\n",
    "    return TF(term, document) * (\n",
    "        IDF(term, corpus, use_log)\n",
    "    )"
   ]
  },
  {
   "cell_type": "code",
   "execution_count": 65,
   "metadata": {},
   "outputs": [
    {
     "name": "stdout",
     "output_type": "stream",
     "text": [
      "Term:       one\n",
      "TF_bin:     1\n",
      "TF_std:     0.014492753623188406\n",
      "\n",
      "8     [sorry, word, 'nonsense, wa, offensive, anyway...\n",
      "9             [alignment, subject, contrary, dulithgow]\n",
      "10    [``, fair, use, rationale, image, wonju.jpg, t...\n",
      "11             [bbq, man, let, discus, it-maybe, phone]\n",
      "12    [hey, ..., it.., talk, ..., exclusive, group, ...\n",
      "Name: cleaned, dtype: object\n",
      "\n",
      "Term:       one\n",
      "IDF_std:    1.6666666666666667\n",
      "IDF_log:    0.5108256237659907\n",
      "\n",
      "Term:       one\n",
      "TF-IDF_std: 0.024154589371980676\n",
      "TF-IDF_log: 0.007403269909652039\n",
      "\n"
     ]
    }
   ],
   "source": [
    "df_sample = df.cleaned[10]\n",
    "ex_term = 'one'\n",
    "\n",
    "print(\n",
    "    \"Term:{tm:>10}\\n\"\n",
    "    \"TF_bin:{tb:>6}\\n\"\n",
    "    \"TF_std:{ts:>25}\\n\".format(\n",
    "        tm = ex_term,\n",
    "        tb = TF_binary(ex_term, df_sample),\n",
    "        ts = TF(ex_term, df_sample) # 16/276\n",
    "    )\n",
    ")\n",
    "\n",
    "df_sample_series = df.cleaned[8:13]\n",
    "\n",
    "print(df_sample_series, end = '\\n\\n')\n",
    "\n",
    "print(\n",
    "    \"Term:{tm:>10}\\n\"\n",
    "    \"IDF_std:{ib:>22}\\n\"\n",
    "    \"IDF_log:{il:>22}\\n\".format(\n",
    "        tm = ex_term,\n",
    "        ib = IDF(ex_term, df_sample_series, use_log = False),\n",
    "        il = IDF(ex_term, df_sample_series, use_log = True)\n",
    "    )\n",
    ")\n",
    "\n",
    "print(\n",
    "    \"Term:{tm:>10}\\n\"\n",
    "    \"TF-IDF_std: {tib}\\n\"\n",
    "    \"TF-IDF_log: {til}\\n\".format(\n",
    "        tm = ex_term,\n",
    "        tib = TF_IDF(ex_term, df_sample, df_sample_series, use_log = False),\n",
    "        til = TF_IDF(ex_term, df_sample, df_sample_series, use_log = True)\n",
    "    )\n",
    ")\n",
    "\n",
    "del df_sample_series, df_sample, ex_term"
   ]
  },
  {
   "cell_type": "code",
   "execution_count": 66,
   "metadata": {},
   "outputs": [],
   "source": [
    "# slow, but it works. definitely needs proper manual vectorization\n",
    "def TF_IDF_dict(\n",
    "    corpus:     pd.Series,   # list of all texts\n",
    "    vocabulary: defaultdict, # generated set of uniq words\n",
    "    use_log:    bool         # use IDF or IDF_enchanced in calculations below\n",
    ") -> defaultdict:\n",
    "    \n",
    "    tf_idf_dict = defaultdict()\n",
    "    j = 1\n",
    "    for token in vocabulary:\n",
    "        print(\"{c} | {e}\".format(c = j, e = len(vocabulary)))\n",
    "        tf_idf_dict[token] = np.array(\n",
    "            [(doc.count(token)/len(doc) if doc else 0) for doc in corpus]\n",
    "        ) * (np.log if use_log else (lambda t: t))(\n",
    "        len(corpus)/len(corpus[np.vectorize(lambda doc: token in doc)(corpus)])\n",
    "        )\n",
    "        j += 1"
   ]
  },
  {
   "cell_type": "code",
   "execution_count": null,
   "metadata": {},
   "outputs": [
    {
     "name": "stdout",
     "output_type": "stream",
     "text": [
      "1 | 18705\n",
      "2 | 18705\n",
      "3 | 18705\n",
      "4 | 18705\n",
      "5 | 18705\n",
      "6 | 18705\n",
      "7 | 18705\n",
      "8 | 18705\n",
      "9 | 18705\n",
      "10 | 18705\n",
      "11 | 18705\n",
      "12 | 18705\n",
      "13 | 18705\n",
      "14 | 18705\n",
      "15 | 18705\n",
      "16 | 18705\n",
      "17 | 18705\n",
      "18 | 18705\n",
      "19 | 18705\n",
      "20 | 18705\n",
      "21 | 18705\n",
      "22 | 18705\n",
      "23 | 18705\n",
      "24 | 18705\n",
      "25 | 18705\n",
      "26 | 18705\n",
      "27 | 18705\n",
      "28 | 18705\n",
      "29 | 18705\n",
      "30 | 18705\n",
      "31 | 18705\n",
      "32 | 18705\n",
      "33 | 18705\n",
      "34 | 18705\n",
      "35 | 18705\n",
      "36 | 18705\n",
      "37 | 18705\n",
      "38 | 18705\n",
      "39 | 18705\n",
      "40 | 18705\n",
      "41 | 18705\n",
      "42 | 18705\n",
      "43 | 18705\n",
      "44 | 18705\n",
      "45 | 18705\n",
      "46 | 18705\n",
      "47 | 18705\n",
      "48 | 18705\n",
      "49 | 18705\n",
      "50 | 18705\n",
      "51 | 18705\n",
      "52 | 18705\n",
      "53 | 18705\n",
      "54 | 18705\n",
      "55 | 18705\n",
      "56 | 18705\n",
      "57 | 18705\n",
      "58 | 18705\n",
      "59 | 18705\n",
      "60 | 18705\n",
      "61 | 18705\n",
      "62 | 18705\n",
      "63 | 18705\n",
      "64 | 18705\n",
      "65 | 18705\n",
      "66 | 18705\n",
      "67 | 18705\n",
      "68 | 18705\n",
      "69 | 18705\n",
      "70 | 18705\n",
      "71 | 18705\n",
      "72 | 18705\n",
      "73 | 18705\n",
      "74 | 18705\n",
      "75 | 18705\n",
      "76 | 18705\n",
      "77 | 18705\n",
      "78 | 18705\n",
      "79 | 18705\n",
      "80 | 18705\n",
      "81 | 18705\n",
      "82 | 18705\n",
      "83 | 18705\n",
      "84 | 18705\n",
      "85 | 18705\n",
      "86 | 18705\n",
      "87 | 18705\n",
      "88 | 18705\n",
      "89 | 18705\n",
      "90 | 18705\n",
      "91 | 18705\n",
      "92 | 18705\n",
      "93 | 18705\n",
      "94 | 18705\n",
      "95 | 18705\n",
      "96 | 18705\n",
      "97 | 18705\n",
      "98 | 18705\n",
      "99 | 18705\n",
      "100 | 18705\n",
      "101 | 18705\n",
      "102 | 18705\n",
      "103 | 18705\n",
      "104 | 18705\n",
      "105 | 18705\n",
      "106 | 18705\n",
      "107 | 18705\n",
      "108 | 18705\n",
      "109 | 18705\n",
      "110 | 18705\n",
      "111 | 18705\n",
      "112 | 18705\n",
      "113 | 18705\n",
      "114 | 18705\n",
      "115 | 18705\n",
      "116 | 18705\n",
      "117 | 18705\n",
      "118 | 18705\n",
      "119 | 18705\n",
      "120 | 18705\n",
      "121 | 18705\n",
      "122 | 18705\n",
      "123 | 18705\n",
      "124 | 18705\n",
      "125 | 18705\n",
      "126 | 18705\n",
      "127 | 18705\n",
      "128 | 18705\n",
      "129 | 18705\n",
      "130 | 18705\n",
      "131 | 18705\n",
      "132 | 18705\n",
      "133 | 18705\n",
      "134 | 18705\n",
      "135 | 18705\n",
      "136 | 18705\n",
      "137 | 18705\n",
      "138 | 18705\n",
      "139 | 18705\n",
      "140 | 18705\n",
      "141 | 18705\n",
      "142 | 18705\n",
      "143 | 18705\n",
      "144 | 18705\n",
      "145 | 18705\n",
      "146 | 18705\n",
      "147 | 18705\n",
      "148 | 18705\n",
      "149 | 18705\n",
      "150 | 18705\n",
      "151 | 18705\n",
      "152 | 18705\n",
      "153 | 18705\n",
      "154 | 18705\n",
      "155 | 18705\n",
      "156 | 18705\n",
      "157 | 18705\n",
      "158 | 18705\n",
      "159 | 18705\n",
      "160 | 18705\n",
      "161 | 18705\n",
      "162 | 18705\n",
      "163 | 18705\n",
      "164 | 18705\n",
      "165 | 18705\n",
      "166 | 18705\n",
      "167 | 18705\n",
      "168 | 18705\n",
      "169 | 18705\n",
      "170 | 18705\n",
      "171 | 18705\n",
      "172 | 18705\n",
      "173 | 18705\n",
      "174 | 18705\n",
      "175 | 18705\n",
      "176 | 18705\n",
      "177 | 18705\n",
      "178 | 18705\n",
      "179 | 18705\n",
      "180 | 18705\n",
      "181 | 18705\n",
      "182 | 18705\n",
      "183 | 18705\n",
      "184 | 18705\n",
      "185 | 18705\n",
      "186 | 18705\n",
      "187 | 18705\n",
      "188 | 18705\n",
      "189 | 18705\n",
      "190 | 18705\n",
      "191 | 18705\n",
      "192 | 18705\n",
      "193 | 18705\n",
      "194 | 18705\n",
      "195 | 18705\n",
      "196 | 18705\n",
      "197 | 18705\n",
      "198 | 18705\n",
      "199 | 18705\n",
      "200 | 18705\n",
      "201 | 18705\n",
      "202 | 18705\n",
      "203 | 18705\n",
      "204 | 18705\n",
      "205 | 18705\n",
      "206 | 18705\n",
      "207 | 18705\n",
      "208 | 18705\n",
      "209 | 18705\n",
      "210 | 18705\n",
      "211 | 18705\n",
      "212 | 18705\n",
      "213 | 18705\n",
      "214 | 18705\n",
      "215 | 18705\n",
      "216 | 18705\n",
      "217 | 18705\n",
      "218 | 18705\n",
      "219 | 18705\n",
      "220 | 18705\n",
      "221 | 18705\n",
      "222 | 18705\n",
      "223 | 18705\n",
      "224 | 18705\n",
      "225 | 18705\n",
      "226 | 18705\n",
      "227 | 18705\n",
      "228 | 18705\n",
      "229 | 18705\n",
      "230 | 18705\n",
      "231 | 18705\n",
      "232 | 18705\n",
      "233 | 18705\n",
      "234 | 18705\n",
      "235 | 18705\n",
      "236 | 18705\n",
      "237 | 18705\n",
      "238 | 18705\n",
      "239 | 18705\n",
      "240 | 18705\n",
      "241 | 18705\n",
      "242 | 18705\n",
      "243 | 18705\n",
      "244 | 18705\n",
      "245 | 18705\n",
      "246 | 18705\n",
      "247 | 18705\n",
      "248 | 18705\n",
      "249 | 18705\n",
      "250 | 18705\n",
      "251 | 18705\n",
      "252 | 18705\n",
      "253 | 18705\n",
      "254 | 18705\n",
      "255 | 18705\n",
      "256 | 18705\n",
      "257 | 18705\n"
     ]
    }
   ],
   "source": [
    "TF_IDF_final = TF_IDF_dict(\n",
    "    corpus = df.cleaned,\n",
    "    vocabulary = vocabulary,\n",
    "    use_log = False\n",
    ")\n",
    "\n",
    "TF_IDF_final"
   ]
  },
  {
   "cell_type": "code",
   "execution_count": 97,
   "metadata": {},
   "outputs": [
    {
     "data": {
      "text/plain": [
       "<113417x18705 sparse matrix of type '<class 'numpy.float64'>'\n",
       "\twith 1967295 stored elements in Compressed Sparse Row format>"
      ]
     },
     "execution_count": 97,
     "metadata": {},
     "output_type": "execute_result"
    }
   ],
   "source": [
    "# no-sklearn implementation\n",
    "\n",
    "path1 = os.getcwd() + os.sep + 'x_train_tf_idf_sparse.npz'\n",
    "\n",
    "if util_load:\n",
    "    X_train_count_matrix = load_npz(path1)\n",
    "else:\n",
    "    X_train_count_matrix = vocabulary_interact_sparse(\n",
    "        corpus = X_train, vocabulary_len = N, vect_vocabulary = vocabulary\n",
    "    )\n",
    "\n",
    "X_train_count_matrix"
   ]
  },
  {
   "cell_type": "code",
   "execution_count": 98,
   "metadata": {},
   "outputs": [],
   "source": [
    "if util_save:\n",
    "    \n",
    "    save_npz(path1, X_train_count_matrix)\n",
    "    \n",
    "if util_del:\n",
    "    \n",
    "    del X_train_count_matrix"
   ]
  },
  {
   "cell_type": "code",
   "execution_count": 99,
   "metadata": {},
   "outputs": [],
   "source": [
    "# sklearn implementation\n",
    "from sklearn.feature_extraction.text import TfidfTransformer\n",
    "from sklearn.feature_extraction.text import CountVectorizer\n",
    "from sklearn.pipeline import Pipeline\n",
    "\n",
    "X_train_concat = X_train.str.join(' ')\n",
    "X_test_concat = X_test.str.join(' ')\n",
    "\n",
    "pipeline_init = Pipeline(\n",
    "    [\n",
    "        ('cnt-matr', CountVectorizer(vocabulary = cleaned_vocab)),\n",
    "        ('tf-idf-sparse-matr', TfidfTransformer())\n",
    "    ]\n",
    ").fit(X_train_concat)\n",
    "\n",
    "X_train_tf_idf_sparse = pipeline_init.transform(X_train_concat)\n",
    "X_test_tf_idf_sparse = pipeline_init.transform(X_test_concat)"
   ]
  },
  {
   "cell_type": "code",
   "execution_count": 100,
   "metadata": {},
   "outputs": [
    {
     "data": {
      "text/plain": [
       "<113417x18705 sparse matrix of type '<class 'numpy.float64'>'\n",
       "\twith 1986990 stored elements in Compressed Sparse Row format>"
      ]
     },
     "execution_count": 100,
     "metadata": {},
     "output_type": "execute_result"
    }
   ],
   "source": [
    "X_train_tf_idf_sparse"
   ]
  },
  {
   "cell_type": "markdown",
   "metadata": {},
   "source": [
    "### Training the model "
   ]
  },
  {
   "cell_type": "markdown",
   "metadata": {},
   "source": [
    "As it was said before, select any of the text classification models for the selected task and train the model. \n",
    "\n",
    "When the model is trained, you need to evaluate it somehow. \n",
    "\n",
    "Read about True positive, False positive, False negative and True negative counts and how to calculate them:   \n",
    "\n",
    "https://developers.google.com/machine-learning/crash-course/classification/true-false-positive-negative \n",
    "\n",
    "##### Calculate TP, FP, FN and TN on the test set for your model to measure its performance. \n"
   ]
  },
  {
   "cell_type": "code",
   "execution_count": 101,
   "metadata": {},
   "outputs": [],
   "source": [
    "linear_classifier = LogisticRegression(\n",
    "    random_state = 0                     # <=> seed equiv.\n",
    ").fit(X_train_tf_idf_sparse, Y_train)"
   ]
  },
  {
   "cell_type": "code",
   "execution_count": 102,
   "metadata": {},
   "outputs": [
    {
     "name": "stdout",
     "output_type": "stream",
     "text": [
      "(37806,)\n",
      "(37806,)\n"
     ]
    }
   ],
   "source": [
    "#linear_classifier.score(X_train_tf_idf_sparse, Y)\n",
    "\n",
    "Y_prediction = linear_classifier.predict(X_test_tf_idf_sparse)\n",
    "\n",
    "print(Y_prediction.shape)\n",
    "print(Y_test.shape)"
   ]
  },
  {
   "cell_type": "code",
   "execution_count": 103,
   "metadata": {},
   "outputs": [
    {
     "name": "stdout",
     "output_type": "stream",
     "text": [
      "[ True]\n"
     ]
    },
    {
     "data": {
      "text/plain": [
       "(1030, 35792, 933, 51)"
      ]
     },
     "execution_count": 103,
     "metadata": {},
     "output_type": "execute_result"
    }
   ],
   "source": [
    "# assuming that we have only 0 or 1 in Y_test/Y_pred\n",
    "\n",
    "def TP_FP_FN_TN(\n",
    "    y_test,       # validated labels\n",
    "    y_pred        # predicted labels\n",
    ") -> list:\n",
    "    \n",
    "    TP = lambda y_test, y_pred: np.sum([(y_test==y_pred) & y_test]) \n",
    "    FP = lambda y_test, y_pred: np.sum([(y_test==y_pred) & ~y_test])\n",
    "    \n",
    "    TN = lambda y_test, y_pred: np.sum([(y_test!=y_pred) & y_test])\n",
    "    FN = lambda y_test, y_pred: np.sum([~((y_test==y_pred) | y_test)])\n",
    "    \n",
    "    return list(map(lambda f: f(y_test, y_pred),[TP, FP, TN, FN]))\n",
    "\n",
    "TP, FP, TN, FN = TP_FP_FN_TN(Y_test, Y_prediction)\n",
    "print(Y_prediction.shape == np.sum([TP, FP, TN, FN]))\n",
    "TP, FP, TN, FN"
   ]
  },
  {
   "cell_type": "markdown",
   "metadata": {},
   "source": [
    "#### The next step is to calculate  Precision, Recall, F1 and F2 score \n",
    "\n",
    "https://en.wikipedia.org/wiki/Sensitivity_and_specificity"
   ]
  },
  {
   "cell_type": "code",
   "execution_count": 104,
   "metadata": {},
   "outputs": [
    {
     "data": {
      "text/plain": [
       "(0.027972407799684972,\n",
       " 0.9528214616096207,\n",
       " 0.05434925995303802,\n",
       " 0.1251640499684052)"
      ]
     },
     "execution_count": 104,
     "metadata": {},
     "output_type": "execute_result"
    }
   ],
   "source": [
    "def PRE_REC_F1_F2(\n",
    "    TP: int,       # True positive\n",
    "    FP: int,       # False positive\n",
    "    FN: int        # False negative\n",
    ") -> list:\n",
    "    \n",
    "    PRE = lambda tp, fp: tp / (tp + fp)\n",
    "    REC = lambda tp, fn: tp / (tp + fn)\n",
    "    \n",
    "    Fbeta = lambda pre, rec, beta: (\n",
    "        (1 + beta ** 2) * (pre * rec) / (((beta ** 2) * pre) + rec)\n",
    "    )\n",
    "    \n",
    "    PRE_R, REC_R = PRE(TP, FP), REC(TP, FN)\n",
    "    \n",
    "    return [PRE_R, REC_R, Fbeta(PRE_R, REC_R, 1), Fbeta(PRE_R, REC_R, 2)]\n",
    "\n",
    "prec, rec, F1, F2 = PRE_REC_F1_F2(TP, FP, FN)\n",
    "prec, rec, F1, F2"
   ]
  },
  {
   "cell_type": "code",
   "execution_count": 105,
   "metadata": {},
   "outputs": [],
   "source": [
    "# defining accuracy measure\n",
    "def ACC(\n",
    "    TP: int,       # True positive\n",
    "    FP: int,       # False positive\n",
    "    TN: int,       # True negative\n",
    "    FN: int        # False negative\n",
    "):\n",
    "    return (TP + FP) / (TP + FP + TN + FN)"
   ]
  },
  {
   "cell_type": "code",
   "execution_count": 106,
   "metadata": {},
   "outputs": [
    {
     "data": {
      "text/plain": [
       "0.973972385335661"
      ]
     },
     "execution_count": 106,
     "metadata": {},
     "output_type": "execute_result"
    }
   ],
   "source": [
    "ACC(TP, FP, TN, FN)"
   ]
  },
  {
   "cell_type": "code",
   "execution_count": 36,
   "metadata": {},
   "outputs": [
    {
     "data": {
      "text/plain": [
       "array([[35877,    46],\n",
       "       [  934,   949]], dtype=int64)"
      ]
     },
     "execution_count": 36,
     "metadata": {},
     "output_type": "execute_result"
    }
   ],
   "source": [
    "# using sklearn package\n",
    "from sklearn.metrics import confusion_matrix\n",
    "confusion_matrix(Y_test, Y_prediction)"
   ]
  },
  {
   "cell_type": "code",
   "execution_count": 107,
   "metadata": {},
   "outputs": [
    {
     "data": {
      "text/plain": [
       "0.973972385335661"
      ]
     },
     "execution_count": 107,
     "metadata": {},
     "output_type": "execute_result"
    }
   ],
   "source": [
    "from sklearn.metrics import accuracy_score\n",
    "accuracy_score(Y_test, Y_prediction)"
   ]
  },
  {
   "cell_type": "markdown",
   "metadata": {},
   "source": [
    "Calculate these metrics for the vectorization created using count vectorizing and for tf-idf vectorization.  \n",
    "Compare them. "
   ]
  },
  {
   "cell_type": "markdown",
   "metadata": {},
   "source": [
    "### Conclusions and improvements "
   ]
  },
  {
   "cell_type": "markdown",
   "metadata": {},
   "source": [
    "For all of the vectorization pipelines we used all of the words, which were available in our dictionary, as experiment try to use the most meaningful words - select them using TF-IDF score. (for example for each text you can select not more than 10 words for vectorization, or less). \n",
    "\n",
    "Compare this approach with the first and second ones. Did your model improve? \n",
    "\n"
   ]
  },
  {
   "cell_type": "markdown",
   "metadata": {},
   "source": [
    "### Additionally, visualisations "
   ]
  },
  {
   "cell_type": "markdown",
   "metadata": {},
   "source": [
    "For now you have a vector for each word from your vocabulary. \n",
    "You have vectors with lenght > 18000, so the dimension of your space is more than 18000 - it's impossible to visualise it in 2d space. \n",
    "\n",
    "So try to research and look for algorithms which perform dimensionality reduction. (t-SNE, PCA) \n",
    "Try to visualise obtained vectors in a vectorspace, only subset from the vocabulary, don't plot all of the words. (100) \n",
    "\n",
    "Probably on this step you will realise how this type of vectorization using these techniques is not the best way to vectorize words. \n",
    "\n",
    "Please, analyse the obtained results and explain why visualisation looks like this. "
   ]
  },
  {
   "cell_type": "code",
   "execution_count": 91,
   "metadata": {},
   "outputs": [],
   "source": [
    "import matplotlib.pyplot as plt\n",
    "import seaborn as sns\n",
    "\n",
    "# Here we'll be using princomp method to make visualizations possible\n",
    "# .. later, because having troubles with memory. Now using alternative for sparse matrices\n",
    "\n",
    "# https://en.wikipedia.org/wiki/Singular_value_decomposition\n",
    "# https://arxiv.org/pdf/0909.4061.pdf\n",
    "\n",
    "from sklearn.decomposition import PCA\n",
    "from sklearn.decomposition import TruncatedSVD"
   ]
  },
  {
   "cell_type": "code",
   "execution_count": 92,
   "metadata": {},
   "outputs": [],
   "source": [
    "trunc_svd_model = TruncatedSVD(n_components = 2)"
   ]
  },
  {
   "cell_type": "code",
   "execution_count": 114,
   "metadata": {},
   "outputs": [],
   "source": [
    "#... = pd.DataFrame(...[:500,], columns = ['X', 'Y']) - 0 label\n",
    "#... = pd.DataFrame(...[:500,], columns = ['X', 'Y']) - 1 label"
   ]
  },
  {
   "cell_type": "code",
   "execution_count": 94,
   "metadata": {},
   "outputs": [
    {
     "data": {
      "text/plain": [
       "<Figure size 1008x1008 with 0 Axes>"
      ]
     },
     "execution_count": 94,
     "metadata": {},
     "output_type": "execute_result"
    },
    {
     "data": {
      "text/plain": [
       "<Figure size 1008x1008 with 0 Axes>"
      ]
     },
     "metadata": {},
     "output_type": "display_data"
    }
   ],
   "source": [
    "plt.figure(figsize = (14, 14))\n",
    "\n",
    "#sns.scatterplot(\n",
    "#    x = 'X',\n",
    "#    y = 'Y',\n",
    "#    data = pd.concat([(...).assign(set_type='test'), (...).assign(set_type='train')]),\n",
    "#    s = 12, hue = 'set_type'\n",
    "#)"
   ]
  }
 ],
 "metadata": {
  "kernelspec": {
   "display_name": "Python 3",
   "language": "python",
   "name": "python3"
  },
  "language_info": {
   "codemirror_mode": {
    "name": "ipython",
    "version": 3
   },
   "file_extension": ".py",
   "mimetype": "text/x-python",
   "name": "python",
   "nbconvert_exporter": "python",
   "pygments_lexer": "ipython3",
   "version": "3.7.4"
  }
 },
 "nbformat": 4,
 "nbformat_minor": 2
}
